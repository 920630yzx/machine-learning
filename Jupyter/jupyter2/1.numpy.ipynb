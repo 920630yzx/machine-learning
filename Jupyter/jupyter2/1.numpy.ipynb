{
 "cells": [
  {
   "cell_type": "markdown",
   "metadata": {
    "collapsed": true
   },
   "source": [
    "导入numpy并查看版本"
   ]
  },
  {
   "cell_type": "code",
   "execution_count": 2,
   "metadata": {
    "collapsed": true
   },
   "outputs": [],
   "source": [
    "import numpy as np"
   ]
  },
  {
   "cell_type": "code",
   "execution_count": 3,
   "metadata": {},
   "outputs": [
    {
     "data": {
      "text/plain": [
       "'1.13.1'"
      ]
     },
     "execution_count": 3,
     "metadata": {},
     "output_type": "execute_result"
    }
   ],
   "source": [
    "np.__version__"
   ]
  },
  {
   "cell_type": "markdown",
   "metadata": {},
   "source": [
    "什么是numpy？\n",
    "\n",
    "    即Numeric python，对python进行了一次扩展，使得其可以支持数组与矩阵类型，包含大量数组与矩阵的计算函数；numpy是数据分析的一个基础框架，比如后期用到的pandas、scipy、scikit-learn等工具都是基于numpy\n"
   ]
  },
  {
   "cell_type": "markdown",
   "metadata": {},
   "source": [
    "## 一、创建ndarray\n",
    "numpy中最基础数据结构就是ndarray：即数组"
   ]
  },
  {
   "cell_type": "markdown",
   "metadata": {},
   "source": [
    "### 1. 使用np.array()由python list创建"
   ]
  },
  {
   "cell_type": "code",
   "execution_count": 4,
   "metadata": {},
   "outputs": [
    {
     "data": {
      "text/plain": [
       "[1, 2, 3]"
      ]
     },
     "execution_count": 4,
     "metadata": {},
     "output_type": "execute_result"
    }
   ],
   "source": [
    "data = [1,2,3]\n",
    "data"
   ]
  },
  {
   "cell_type": "code",
   "execution_count": 6,
   "metadata": {},
   "outputs": [
    {
     "data": {
      "text/plain": [
       "array([1, 2, 3])"
      ]
     },
     "execution_count": 6,
     "metadata": {},
     "output_type": "execute_result"
    }
   ],
   "source": [
    "nd = np.array(data)\n",
    "nd"
   ]
  },
  {
   "cell_type": "code",
   "execution_count": 7,
   "metadata": {},
   "outputs": [
    {
     "data": {
      "text/plain": [
       "(list, numpy.ndarray)"
      ]
     },
     "execution_count": 7,
     "metadata": {},
     "output_type": "execute_result"
    }
   ],
   "source": [
    "type(data),type(nd)"
   ]
  },
  {
   "cell_type": "code",
   "execution_count": 11,
   "metadata": {},
   "outputs": [
    {
     "data": {
      "text/plain": [
       "[12, 12.6, True, '123']"
      ]
     },
     "execution_count": 11,
     "metadata": {},
     "output_type": "execute_result"
    }
   ],
   "source": [
    "l = [12,12.6,True,\"123\"]\n",
    "l"
   ]
  },
  {
   "cell_type": "code",
   "execution_count": 12,
   "metadata": {},
   "outputs": [
    {
     "data": {
      "text/plain": [
       "array(['12', '12.6', 'True', '123'],\n",
       "      dtype='<U32')"
      ]
     },
     "execution_count": 12,
     "metadata": {},
     "output_type": "execute_result"
    }
   ],
   "source": [
    "nd1 = np.array(l)\n",
    "nd1"
   ]
  },
  {
   "cell_type": "markdown",
   "metadata": {},
   "source": [
    "【注意】1、在数组中，所有的元素类型都是相同的 2、如果用列表来创建数组的时候，列表中如果元素的类型不统一，首先会做一个同一化处理（str>float>int）"
   ]
  },
  {
   "cell_type": "markdown",
   "metadata": {},
   "source": [
    "扩充：客观世界中所有的信息（声音、图像）都可以在numpy中用数组来表示"
   ]
  },
  {
   "cell_type": "code",
   "execution_count": 13,
   "metadata": {
    "collapsed": true
   },
   "outputs": [],
   "source": [
    "# 引入图片需要借助于以下框架\n",
    "import matplotlib.pyplot as plt"
   ]
  },
  {
   "cell_type": "code",
   "execution_count": 14,
   "metadata": {
    "collapsed": true
   },
   "outputs": [],
   "source": [
    "# 用plt把图片导入\n",
    "girl = plt.imread(\"./source/girl.jpg\")"
   ]
  },
  {
   "cell_type": "code",
   "execution_count": 15,
   "metadata": {
    "collapsed": true
   },
   "outputs": [
    {
     "data": {
      "text/plain": [
       "array([[[225, 231, 231],\n",
       "        [229, 235, 235],\n",
       "        [222, 228, 228],\n",
       "        ..., \n",
       "        [206, 213, 162],\n",
       "        [211, 213, 166],\n",
       "        [217, 220, 173]],\n",
       "\n",
       "       [[224, 230, 230],\n",
       "        [229, 235, 235],\n",
       "        [223, 229, 229],\n",
       "        ..., \n",
       "        [206, 213, 162],\n",
       "        [211, 213, 166],\n",
       "        [217, 220, 173]],\n",
       "\n",
       "       [[224, 230, 230],\n",
       "        [229, 235, 235],\n",
       "        [223, 229, 229],\n",
       "        ..., \n",
       "        [206, 213, 162],\n",
       "        [211, 213, 166],\n",
       "        [219, 221, 174]],\n",
       "\n",
       "       ..., \n",
       "       [[175, 187, 213],\n",
       "        [180, 192, 218],\n",
       "        [175, 187, 213],\n",
       "        ..., \n",
       "        [155, 162, 180],\n",
       "        [153, 160, 178],\n",
       "        [156, 163, 181]],\n",
       "\n",
       "       [[175, 187, 213],\n",
       "        [180, 192, 218],\n",
       "        [174, 186, 212],\n",
       "        ..., \n",
       "        [155, 162, 180],\n",
       "        [153, 160, 178],\n",
       "        [155, 162, 180]],\n",
       "\n",
       "       [[177, 189, 215],\n",
       "        [181, 193, 219],\n",
       "        [174, 186, 212],\n",
       "        ..., \n",
       "        [155, 162, 180],\n",
       "        [153, 160, 178],\n",
       "        [156, 163, 181]]], dtype=uint8)"
      ]
     },
     "execution_count": 15,
     "metadata": {},
     "output_type": "execute_result"
    }
   ],
   "source": [
    "girl # 彩色图片在numpy里面用一个三维数组来表示，(最后一个维度一定是三个元素)"
   ]
  },
  {
   "cell_type": "code",
   "execution_count": 17,
   "metadata": {
    "collapsed": true
   },
   "outputs": [
    {
     "data": {
      "image/png": "[encoded data removed]",
      "text/plain": [
       "<matplotlib.figure.Figure at 0x21c3167f5c0>"
      ]
     },
     "metadata": {},
     "output_type": "display_data"
    }
   ],
   "source": [
    "plt.imshow(girl)\n",
    "plt.show()"
   ]
  },
  {
   "cell_type": "code",
   "execution_count": 18,
   "metadata": {
    "collapsed": true
   },
   "outputs": [
    {
     "data": {
      "text/plain": [
       "array([[[ 0.2,  0.1,  0.3],\n",
       "        [ 0.4,  0.5,  0.6],\n",
       "        [ 0.7,  0.8,  0.9]],\n",
       "\n",
       "       [[ 0.1,  0.2,  0.4],\n",
       "        [ 0.5,  0.7,  0.2],\n",
       "        [ 0.2,  0.1,  0.6]],\n",
       "\n",
       "       [[ 0.7,  0.4,  0.2],\n",
       "        [ 0.7,  0.8,  0.9],\n",
       "        [ 0.2,  0.3,  0.6]]])"
      ]
     },
     "execution_count": 18,
     "metadata": {},
     "output_type": "execute_result"
    }
   ],
   "source": [
    "boy = np.array([[[0.2,0.1,0.3],[0.4,0.5,0.6],[0.7,0.8,0.9]],\n",
    "                [[0.1,0.2,0.4],[0.5,0.7,0.2],[0.2,0.1,0.6]],\n",
    "                [[0.7,0.4,0.2],[0.7,0.8,0.9],[0.2,0.3,0.6]]])\n",
    "boy"
   ]
  },
  {
   "cell_type": "code",
   "execution_count": 19,
   "metadata": {
    "collapsed": true
   },
   "outputs": [
    {
     "data": {
      "image/png": "[encoded data removed]",
      "text/plain": [
       "<matplotlib.figure.Figure at 0x21c31aaa080>"
      ]
     },
     "metadata": {},
     "output_type": "display_data"
    }
   ],
   "source": [
    "plt.imshow(boy)\n",
    "plt.show()"
   ]
  },
  {
   "cell_type": "markdown",
   "metadata": {},
   "source": [
    "### 2. 使用np的routines函数创建"
   ]
  },
  {
   "cell_type": "markdown",
   "metadata": {},
   "source": [
    "1)np.ones(shape,dtype=None,order='C')\n"
   ]
  },
  {
   "cell_type": "code",
   "execution_count": 21,
   "metadata": {},
   "outputs": [
    {
     "data": {
      "text/plain": [
       "array(1.0)"
      ]
     },
     "execution_count": 21,
     "metadata": {},
     "output_type": "execute_result"
    }
   ],
   "source": [
    "np.ones(shape=None)"
   ]
  },
  {
   "cell_type": "code",
   "execution_count": 127,
   "metadata": {
    "collapsed": true
   },
   "outputs": [
    {
     "data": {
      "text/plain": [
       "array([[[ 1.,  1.,  1.],\n",
       "        [ 1.,  1.,  1.],\n",
       "        [ 1.,  1.,  1.],\n",
       "        [ 1.,  1.,  1.],\n",
       "        [ 1.,  1.,  1.],\n",
       "        [ 1.,  1.,  1.]],\n",
       "\n",
       "       [[ 1.,  1.,  1.],\n",
       "        [ 1.,  1.,  1.],\n",
       "        [ 1.,  1.,  1.],\n",
       "        [ 1.,  1.,  1.],\n",
       "        [ 1.,  1.,  1.],\n",
       "        [ 1.,  1.,  1.]],\n",
       "\n",
       "       [[ 1.,  1.,  1.],\n",
       "        [ 1.,  1.,  1.],\n",
       "        [ 1.,  1.,  1.],\n",
       "        [ 1.,  1.,  1.],\n",
       "        [ 1.,  1.,  1.],\n",
       "        [ 1.,  1.,  1.]]])"
      ]
     },
     "execution_count": 127,
     "metadata": {},
     "output_type": "execute_result"
    }
   ],
   "source": [
    "np.ones(shape=(3,6,3))\n",
    "# shape参数，用于指定创建的数组的形状，传一个元组（或者列表），元组中的元素的个数代表创建的数组的维度\n",
    "# 元组中的每一个数字代表该维度上有多少个元素"
   ]
  },
  {
   "cell_type": "markdown",
   "metadata": {},
   "source": [
    "2）np.zeros(shape,dtype=\"float\",order=\"C\")"
   ]
  },
  {
   "cell_type": "code",
   "execution_count": 28,
   "metadata": {},
   "outputs": [
    {
     "data": {
      "text/plain": [
       "array([[ 0.,  0.,  0.,  0.],\n",
       "       [ 0.,  0.,  0.,  0.],\n",
       "       [ 0.,  0.,  0.,  0.],\n",
       "       [ 0.,  0.,  0.,  0.]])"
      ]
     },
     "execution_count": 28,
     "metadata": {},
     "output_type": "execute_result"
    }
   ],
   "source": [
    "np.zeros(shape=(4,4))"
   ]
  },
  {
   "cell_type": "markdown",
   "metadata": {},
   "source": [
    "3）np.full(shape,fill_value,dtype=None)"
   ]
  },
  {
   "cell_type": "code",
   "execution_count": 29,
   "metadata": {},
   "outputs": [
    {
     "data": {
      "text/plain": [
       "array([[12, 12, 12],\n",
       "       [12, 12, 12]])"
      ]
     },
     "execution_count": 29,
     "metadata": {},
     "output_type": "execute_result"
    }
   ],
   "source": [
    "np.full(shape=(2,3),fill_value=12)"
   ]
  },
  {
   "cell_type": "markdown",
   "metadata": {},
   "source": [
    "4）np.eye(N,M,k=0,dtype='float')"
   ]
  },
  {
   "cell_type": "code",
   "execution_count": 30,
   "metadata": {
    "collapsed": true
   },
   "outputs": [
    {
     "data": {
      "text/plain": [
       "array([[ 1.,  0.,  0.,  0.],\n",
       "       [ 0.,  1.,  0.,  0.],\n",
       "       [ 0.,  0.,  1.,  0.],\n",
       "       [ 0.,  0.,  0.,  1.]])"
      ]
     },
     "execution_count": 30,
     "metadata": {},
     "output_type": "execute_result"
    }
   ],
   "source": [
    "np.eye(4)"
   ]
  },
  {
   "cell_type": "code",
   "execution_count": 31,
   "metadata": {
    "collapsed": true
   },
   "outputs": [
    {
     "data": {
      "text/plain": [
       "array([[ 1.,  0.,  0.,  0.,  0.],\n",
       "       [ 0.,  1.,  0.,  0.,  0.],\n",
       "       [ 0.,  0.,  1.,  0.,  0.],\n",
       "       [ 0.,  0.,  0.,  1.,  0.]])"
      ]
     },
     "execution_count": 31,
     "metadata": {},
     "output_type": "execute_result"
    }
   ],
   "source": [
    "np.eye(4,5)"
   ]
  },
  {
   "cell_type": "markdown",
   "metadata": {},
   "source": [
    "5）np.linspace(start,stop,num=50)"
   ]
  },
  {
   "cell_type": "code",
   "execution_count": 33,
   "metadata": {},
   "outputs": [
    {
     "data": {
      "text/plain": [
       "array([  1.,   2.,   3.,   4.,   5.,   6.,   7.,   8.,   9.,  10.])"
      ]
     },
     "execution_count": 33,
     "metadata": {},
     "output_type": "execute_result"
    }
   ],
   "source": [
    "np.linspace(1,10,10)"
   ]
  },
  {
   "cell_type": "code",
   "execution_count": 34,
   "metadata": {
    "collapsed": true
   },
   "outputs": [
    {
     "data": {
      "text/plain": [
       "array([  1.00000000e+01,   1.00000000e+02,   1.00000000e+03,\n",
       "         1.00000000e+04,   1.00000000e+05,   1.00000000e+06,\n",
       "         1.00000000e+07,   1.00000000e+08,   1.00000000e+09,\n",
       "         1.00000000e+10])"
      ]
     },
     "execution_count": 34,
     "metadata": {},
     "output_type": "execute_result"
    }
   ],
   "source": [
    "np.logspace(1,10,10)"
   ]
  },
  {
   "cell_type": "markdown",
   "metadata": {},
   "source": [
    "6）np.arange([start,]stop,[step,]dtype=None) \"[]\"中是可选项"
   ]
  },
  {
   "cell_type": "code",
   "execution_count": 36,
   "metadata": {},
   "outputs": [
    {
     "data": {
      "text/plain": [
       "array([1, 3, 5, 7, 9])"
      ]
     },
     "execution_count": 36,
     "metadata": {},
     "output_type": "execute_result"
    }
   ],
   "source": [
    "np.arange(1,10,2)"
   ]
  },
  {
   "cell_type": "markdown",
   "metadata": {},
   "source": [
    "7）np.random.randint(low,high=None,size=None,dtype='I')"
   ]
  },
  {
   "cell_type": "code",
   "execution_count": 46,
   "metadata": {
    "collapsed": true
   },
   "outputs": [
    {
     "data": {
      "text/plain": [
       "array([[[17, 10, 19, 10, 10, 18, 16, 14, 18, 12],\n",
       "        [10, 13, 13, 11, 13, 14, 14, 12, 12, 19],\n",
       "        [19, 18, 13, 19, 11, 10, 17, 15, 18, 17],\n",
       "        [17, 12, 14, 15, 13, 18, 19, 15, 11, 10],\n",
       "        [19, 16, 16, 14, 19, 19, 10, 15, 12, 11],\n",
       "        [19, 14, 17, 10, 11, 11, 16, 11, 19, 19],\n",
       "        [19, 11, 19, 11, 10, 18, 16, 10, 13, 11],\n",
       "        [18, 12, 11, 13, 18, 15, 17, 16, 15, 17],\n",
       "        [10, 15, 17, 13, 17, 14, 18, 12, 12, 13],\n",
       "        [11, 19, 16, 16, 18, 10, 18, 18, 14, 17]],\n",
       "\n",
       "       [[14, 17, 19, 12, 18, 13, 11, 13, 10, 15],\n",
       "        [16, 12, 19, 12, 12, 13, 13, 15, 15, 14],\n",
       "        [12, 12, 11, 10, 14, 16, 17, 13, 11, 11],\n",
       "        [19, 12, 14, 14, 14, 10, 17, 10, 11, 12],\n",
       "        [18, 17, 15, 17, 12, 18, 16, 19, 13, 15],\n",
       "        [19, 12, 10, 15, 18, 16, 12, 17, 16, 19],\n",
       "        [14, 12, 11, 18, 13, 19, 17, 17, 11, 14],\n",
       "        [15, 15, 11, 14, 17, 19, 10, 18, 15, 14],\n",
       "        [10, 14, 13, 12, 11, 18, 12, 13, 12, 12],\n",
       "        [16, 13, 17, 16, 18, 19, 10, 13, 18, 10]],\n",
       "\n",
       "       [[10, 18, 14, 17, 11, 19, 13, 11, 18, 15],\n",
       "        [15, 18, 19, 10, 13, 17, 11, 14, 14, 16],\n",
       "        [17, 11, 16, 18, 19, 10, 10, 11, 14, 16],\n",
       "        [17, 19, 12, 14, 13, 19, 14, 16, 18, 11],\n",
       "        [18, 12, 12, 14, 13, 18, 16, 12, 12, 17],\n",
       "        [19, 16, 15, 19, 14, 19, 16, 19, 11, 14],\n",
       "        [10, 19, 14, 11, 17, 12, 15, 13, 18, 13],\n",
       "        [10, 14, 19, 11, 14, 15, 15, 13, 10, 12],\n",
       "        [10, 15, 16, 10, 18, 11, 13, 14, 17, 18],\n",
       "        [10, 10, 15, 10, 17, 16, 14, 19, 19, 13]],\n",
       "\n",
       "       [[15, 16, 14, 10, 19, 14, 15, 13, 19, 16],\n",
       "        [16, 14, 17, 15, 13, 14, 12, 11, 14, 13],\n",
       "        [13, 15, 12, 16, 18, 16, 11, 14, 18, 17],\n",
       "        [16, 10, 17, 17, 16, 13, 15, 15, 14, 15],\n",
       "        [19, 19, 12, 17, 16, 11, 13, 17, 13, 14],\n",
       "        [10, 17, 11, 13, 18, 18, 10, 19, 10, 14],\n",
       "        [19, 11, 19, 17, 19, 18, 18, 19, 12, 19],\n",
       "        [10, 18, 19, 19, 10, 19, 12, 12, 16, 12],\n",
       "        [11, 11, 11, 16, 18, 16, 14, 12, 10, 14],\n",
       "        [10, 15, 12, 12, 13, 12, 17, 16, 16, 15]],\n",
       "\n",
       "       [[11, 14, 16, 11, 16, 15, 10, 15, 10, 13],\n",
       "        [18, 12, 15, 19, 14, 11, 18, 18, 16, 16],\n",
       "        [19, 10, 10, 18, 17, 15, 12, 13, 17, 19],\n",
       "        [17, 10, 14, 12, 19, 11, 15, 18, 14, 12],\n",
       "        [12, 11, 12, 14, 11, 12, 17, 17, 14, 14],\n",
       "        [19, 12, 12, 13, 15, 16, 19, 15, 12, 10],\n",
       "        [18, 11, 19, 12, 15, 13, 13, 14, 17, 18],\n",
       "        [14, 16, 18, 11, 15, 11, 18, 18, 10, 17],\n",
       "        [14, 13, 15, 13, 19, 19, 14, 17, 11, 17],\n",
       "        [16, 15, 11, 14, 16, 15, 11, 19, 16, 18]],\n",
       "\n",
       "       [[12, 18, 13, 10, 11, 17, 11, 19, 19, 17],\n",
       "        [17, 17, 13, 13, 11, 16, 19, 19, 15, 16],\n",
       "        [17, 19, 11, 12, 18, 15, 11, 10, 12, 19],\n",
       "        [14, 14, 17, 16, 13, 17, 13, 16, 11, 16],\n",
       "        [17, 11, 11, 19, 18, 19, 10, 10, 17, 17],\n",
       "        [14, 19, 15, 19, 11, 12, 17, 11, 16, 15],\n",
       "        [13, 16, 15, 10, 18, 12, 18, 10, 12, 15],\n",
       "        [18, 16, 18, 16, 10, 15, 17, 17, 10, 18],\n",
       "        [12, 19, 16, 15, 10, 17, 10, 16, 13, 15],\n",
       "        [18, 11, 10, 11, 17, 15, 16, 15, 15, 13]],\n",
       "\n",
       "       [[12, 11, 19, 14, 12, 13, 13, 12, 12, 14],\n",
       "        [13, 15, 11, 15, 11, 10, 16, 12, 15, 13],\n",
       "        [15, 17, 18, 19, 10, 17, 10, 17, 19, 13],\n",
       "        [12, 13, 12, 14, 12, 13, 11, 11, 18, 10],\n",
       "        [12, 14, 17, 13, 11, 14, 13, 18, 14, 12],\n",
       "        [17, 16, 18, 15, 19, 16, 15, 17, 15, 19],\n",
       "        [13, 16, 17, 18, 16, 15, 13, 18, 17, 19],\n",
       "        [13, 16, 11, 10, 11, 16, 18, 18, 13, 11],\n",
       "        [17, 15, 15, 19, 17, 18, 17, 14, 10, 15],\n",
       "        [17, 17, 14, 12, 12, 13, 13, 19, 15, 15]],\n",
       "\n",
       "       [[11, 19, 10, 13, 12, 12, 12, 18, 19, 11],\n",
       "        [16, 15, 12, 19, 15, 16, 15, 11, 12, 18],\n",
       "        [15, 17, 13, 10, 15, 10, 17, 12, 15, 18],\n",
       "        [16, 15, 17, 14, 17, 15, 12, 14, 14, 10],\n",
       "        [16, 13, 14, 19, 16, 17, 10, 10, 15, 15],\n",
       "        [17, 17, 14, 10, 12, 13, 10, 17, 11, 17],\n",
       "        [11, 13, 16, 15, 10, 16, 14, 12, 16, 11],\n",
       "        [10, 14, 19, 18, 18, 19, 13, 12, 14, 18],\n",
       "        [12, 15, 14, 17, 14, 14, 15, 19, 10, 10],\n",
       "        [12, 18, 18, 17, 12, 13, 17, 18, 17, 11]],\n",
       "\n",
       "       [[14, 18, 12, 10, 13, 10, 14, 19, 16, 16],\n",
       "        [17, 12, 16, 17, 17, 15, 10, 14, 16, 18],\n",
       "        [18, 14, 12, 17, 15, 13, 13, 11, 12, 11],\n",
       "        [10, 15, 10, 17, 15, 17, 16, 15, 15, 14],\n",
       "        [19, 16, 19, 12, 15, 16, 12, 13, 13, 17],\n",
       "        [16, 15, 19, 15, 11, 11, 15, 14, 11, 13],\n",
       "        [19, 15, 19, 16, 12, 14, 13, 17, 18, 14],\n",
       "        [15, 15, 13, 16, 17, 14, 19, 16, 18, 10],\n",
       "        [11, 13, 13, 12, 12, 12, 15, 18, 10, 13],\n",
       "        [18, 15, 16, 15, 14, 16, 17, 14, 15, 12]],\n",
       "\n",
       "       [[14, 17, 11, 11, 15, 12, 11, 13, 16, 13],\n",
       "        [15, 14, 17, 17, 13, 19, 14, 19, 14, 16],\n",
       "        [14, 16, 12, 19, 19, 18, 11, 19, 18, 17],\n",
       "        [18, 19, 11, 11, 11, 11, 15, 17, 15, 10],\n",
       "        [19, 12, 19, 18, 15, 11, 13, 18, 13, 10],\n",
       "        [17, 10, 15, 17, 16, 13, 16, 12, 17, 16],\n",
       "        [15, 12, 18, 19, 17, 12, 17, 15, 13, 11],\n",
       "        [17, 17, 14, 16, 11, 18, 16, 18, 19, 10],\n",
       "        [19, 17, 17, 12, 14, 15, 11, 16, 13, 18],\n",
       "        [12, 12, 13, 10, 12, 16, 18, 13, 19, 10]]])"
      ]
     },
     "execution_count": 46,
     "metadata": {},
     "output_type": "execute_result"
    }
   ],
   "source": [
    "np.random.randint(10,20,size=(10,10,10))"
   ]
  },
  {
   "cell_type": "code",
   "execution_count": 53,
   "metadata": {
    "collapsed": true
   },
   "outputs": [
    {
     "data": {
      "text/plain": [
       "array([[[ 24, 242,  68],\n",
       "        [192, 239, 116],\n",
       "        [241, 158, 201],\n",
       "        ..., \n",
       "        [ 29, 112,  96],\n",
       "        [ 34, 175, 164],\n",
       "        [ 86,  31, 174]],\n",
       "\n",
       "       [[ 46,  29,  84],\n",
       "        [101,  26, 239],\n",
       "        [ 40,   8, 224],\n",
       "        ..., \n",
       "        [119, 105, 155],\n",
       "        [  8,  85,  40],\n",
       "        [ 98,  12,  47]],\n",
       "\n",
       "       [[179, 230, 211],\n",
       "        [162,  21, 238],\n",
       "        [153,  47, 153],\n",
       "        ..., \n",
       "        [130, 158, 222],\n",
       "        [180, 211, 138],\n",
       "        [141, 119,  45]],\n",
       "\n",
       "       ..., \n",
       "       [[  3,  34,  18],\n",
       "        [226, 201, 123],\n",
       "        [ 46,  77,  70],\n",
       "        ..., \n",
       "        [154, 207, 238],\n",
       "        [116, 139,  26],\n",
       "        [ 64, 115, 188]],\n",
       "\n",
       "       [[185,  26, 197],\n",
       "        [ 11,  81, 202],\n",
       "        [ 52, 209, 142],\n",
       "        ..., \n",
       "        [161, 213, 147],\n",
       "        [ 41, 112, 143],\n",
       "        [213, 199, 124]],\n",
       "\n",
       "       [[132,  89, 144],\n",
       "        [252,  54,  75],\n",
       "        [ 37,   2,  42],\n",
       "        ..., \n",
       "        [ 16, 186,  58],\n",
       "        [196, 159, 202],\n",
       "        [237, 245, 183]]])"
      ]
     },
     "execution_count": 53,
     "metadata": {},
     "output_type": "execute_result"
    }
   ],
   "source": [
    "img = np.random.randint(0,255,size=(168,230,3))\n",
    "img"
   ]
  },
  {
   "cell_type": "code",
   "execution_count": 54,
   "metadata": {
    "collapsed": true
   },
   "outputs": [
    {
     "data": {
      "image/png": "[encoded data removed]",
      "text/plain": [
       "<matplotlib.figure.Figure at 0x21c317cde80>"
      ]
     },
     "metadata": {},
     "output_type": "display_data"
    }
   ],
   "source": [
    "plt.imshow(img.astype('uint8'))\n",
    "plt.show()"
   ]
  },
  {
   "cell_type": "markdown",
   "metadata": {},
   "source": [
    "8）np.random.randn(d0,d1,...,dn) \n",
    "从第一维度到第n维度生成一个数组，数组中的数字符合标准正态分布"
   ]
  },
  {
   "cell_type": "code",
   "execution_count": 61,
   "metadata": {
    "collapsed": true
   },
   "outputs": [
    {
     "data": {
      "text/plain": [
       "array([[[ 0.16876942],\n",
       "        [-0.25629246]],\n",
       "\n",
       "       [[ 0.36060512],\n",
       "        [-1.15195093]],\n",
       "\n",
       "       [[ 0.44366942],\n",
       "        [-0.31591304]]])"
      ]
     },
     "execution_count": 61,
     "metadata": {},
     "output_type": "execute_result"
    }
   ],
   "source": [
    "np.random.randn(3,2,1)\n"
   ]
  },
  {
   "cell_type": "markdown",
   "metadata": {},
   "source": [
    "9）np.random.normal(loc=0.0,scale=1.0,size=None)"
   ]
  },
  {
   "cell_type": "code",
   "execution_count": 67,
   "metadata": {
    "collapsed": true
   },
   "outputs": [
    {
     "data": {
      "text/plain": [
       "array([ 169.50292008,  176.2609067 ,  167.79602045,  184.27929347,\n",
       "        172.4229314 ,  190.04263141,  192.01996406,  159.94233371,\n",
       "        188.95006032,  171.45177535,  174.94275135,  152.05541978,\n",
       "        187.08556074,  159.79676083,  185.61880405,  185.62298538,\n",
       "        180.30561086,  200.93959786,  180.75598788,  156.62371731,\n",
       "        179.84334714,  178.08038187,  167.74087481,  186.05789944,\n",
       "        172.2768703 ,  155.61715177,  171.60194283,  161.63977604,\n",
       "        165.21812686,  183.80957097,  170.94417017,  170.04333932,\n",
       "        149.39050564,  178.34164588,  173.28740842,  176.83481697,\n",
       "        179.38597344,  180.49150997,  175.97221507,  186.28063302,\n",
       "        182.61580634,  178.24972897,  173.46307098,  189.46524157,\n",
       "        183.6795406 ,  178.50549028,  177.27960692,  175.28647447,\n",
       "        185.61941232,  178.54387224,  159.47313952,  187.08370059,\n",
       "        174.28167917,  160.88789136,  186.54695915,  172.77121164,\n",
       "        181.54299838,  160.2656686 ,  174.16299555,  179.15250139,\n",
       "        183.31748532,  171.02255942,  150.16237999,  184.92291279,\n",
       "        181.80133211,  174.79924313,  175.97786174,  174.53691737,\n",
       "        172.45950689,  191.1538961 ,  181.49464101,  179.85991619,\n",
       "        166.81746439,  166.5863453 ,  166.21102844,  188.06979468,\n",
       "        205.93982078,  178.23353916,  183.26251281,  172.0852904 ,\n",
       "        172.41649946,  165.50920321,  177.84676401,  174.5155042 ,\n",
       "        180.58648482,  183.9158634 ,  185.24022569,  164.42623623,\n",
       "        187.91008072,  166.73012265,  161.53053558,  186.11112157,\n",
       "        161.60045885,  174.84287232,  168.50443596,  183.20130669,\n",
       "        197.23167566,  196.4435778 ,  180.90364234,  157.5041635 ])"
      ]
     },
     "execution_count": 67,
     "metadata": {},
     "output_type": "execute_result"
    }
   ],
   "source": [
    "np.random.normal(loc=175,scale=10,size=100)"
   ]
  },
  {
   "cell_type": "markdown",
   "metadata": {},
   "source": [
    "10）np.random.random(size=None)"
   ]
  },
  {
   "cell_type": "code",
   "execution_count": 56,
   "metadata": {
    "collapsed": true
   },
   "outputs": [
    {
     "data": {
      "text/plain": [
       "array([[ 0.38430775,  0.00913776,  0.31504858,  0.98419371,  0.93027762,\n",
       "         0.61818794,  0.98348499,  0.37435037,  0.5231341 ,  0.75382503],\n",
       "       [ 0.25389158,  0.11680003,  0.56470164,  0.66570566,  0.47664623,\n",
       "         0.32346379,  0.94849693,  0.91240952,  0.35431934,  0.40675015],\n",
       "       [ 0.61586287,  0.9964524 ,  0.69100692,  0.37430341,  0.22755261,\n",
       "         0.39748706,  0.97677032,  0.3351335 ,  0.08995826,  0.67557401],\n",
       "       [ 0.37007599,  0.71869501,  0.48420328,  0.84880035,  0.71417527,\n",
       "         0.34147108,  0.27675877,  0.80837684,  0.28270105,  0.18236168],\n",
       "       [ 0.23357512,  0.1692375 ,  0.26927069,  0.58724735,  0.65164868,\n",
       "         0.14511544,  0.34883274,  0.04077303,  0.68345501,  0.60383801],\n",
       "       [ 0.41164358,  0.08346017,  0.15404494,  0.91936636,  0.04079404,\n",
       "         0.5436939 ,  0.47764226,  0.49062036,  0.71586156,  0.28463833],\n",
       "       [ 0.00728182,  0.19892265,  0.24240057,  0.16905146,  0.02932395,\n",
       "         0.93825018,  0.55186599,  0.02182527,  0.86820819,  0.74174157],\n",
       "       [ 0.76888472,  0.30147056,  0.69578248,  0.83619642,  0.26330934,\n",
       "         0.57834299,  0.80298488,  0.15102379,  0.6329624 ,  0.19096046],\n",
       "       [ 0.63822534,  0.65554848,  0.45442356,  0.30786983,  0.66730741,\n",
       "         0.75132896,  0.29333084,  0.58040536,  0.22995342,  0.24937852],\n",
       "       [ 0.94985256,  0.24583214,  0.84831223,  0.91085406,  0.83785556,\n",
       "         0.76491425,  0.27619869,  0.05621279,  0.77393342,  0.96832404]])"
      ]
     },
     "execution_count": 56,
     "metadata": {},
     "output_type": "execute_result"
    }
   ],
   "source": [
    "np.random.random(size=(10,10))"
   ]
  },
  {
   "cell_type": "markdown",
   "metadata": {},
   "source": [
    "## 二、ndarray的属性"
   ]
  },
  {
   "cell_type": "markdown",
   "metadata": {},
   "source": [
    "数组的常用属性：\n",
    "\n",
    "维度 ndim， 大小 size， 形状  shape， 元素类型  dtype， 每项大小  itemsize， 数据 data"
   ]
  },
  {
   "cell_type": "code",
   "execution_count": 69,
   "metadata": {
    "collapsed": true
   },
   "outputs": [
    {
     "data": {
      "text/plain": [
       "array([[58, 20, 46, 77, 20, 98, 56, 33, 23, 74, 93, 83, 51, 61, 48, 99, 50,\n",
       "        13, 55, 73],\n",
       "       [84, 89,  2, 99, 90, 49, 29, 75, 91, 53, 82, 17, 88, 79, 51, 82, 60,\n",
       "         5, 14, 67],\n",
       "       [54, 15,  3, 38, 11, 35, 79, 13, 58,  0, 60, 25, 53, 81, 16, 51,  1,\n",
       "        47, 77,  4],\n",
       "       [36, 53, 45, 54,  8, 97, 63, 70, 85,  9, 43, 71, 36, 60,  4, 95, 74,\n",
       "        66, 62, 98],\n",
       "       [82, 21, 51, 56, 33, 74, 48, 85, 45, 59,  6, 68, 74, 38, 11, 73,  3,\n",
       "        89, 89, 45],\n",
       "       [53, 68, 26, 61, 65, 85, 45, 21, 84, 99,  6, 26, 17, 36, 87, 93, 23,\n",
       "        85,  2, 43],\n",
       "       [61, 75, 62, 58, 70, 38, 45, 48, 28, 35, 98, 93, 73, 57, 49, 56, 61,\n",
       "        78, 92, 71],\n",
       "       [60, 24, 13,  6, 98, 49,  9, 23, 23, 38, 60, 67, 69, 33, 32, 14, 66,\n",
       "        93, 18, 22],\n",
       "       [24, 96, 95, 61, 46,  9,  5, 49, 36, 65, 48, 15, 72, 80,  7, 73, 65,\n",
       "        26,  4, 67],\n",
       "       [ 8, 38, 96, 47, 14, 38,  2, 10, 71, 97,  1, 59, 14, 67, 63, 58, 45,\n",
       "        97, 71, 59]])"
      ]
     },
     "execution_count": 69,
     "metadata": {},
     "output_type": "execute_result"
    }
   ],
   "source": [
    "nd = np.random.randint(0,100,size=(10,20))\n",
    "nd"
   ]
  },
  {
   "cell_type": "code",
   "execution_count": 70,
   "metadata": {},
   "outputs": [
    {
     "data": {
      "text/plain": [
       "2"
      ]
     },
     "execution_count": 70,
     "metadata": {},
     "output_type": "execute_result"
    }
   ],
   "source": [
    "nd.ndim"
   ]
  },
  {
   "cell_type": "code",
   "execution_count": 71,
   "metadata": {},
   "outputs": [
    {
     "data": {
      "text/plain": [
       "3"
      ]
     },
     "execution_count": 71,
     "metadata": {},
     "output_type": "execute_result"
    }
   ],
   "source": [
    "girl.ndim"
   ]
  },
  {
   "cell_type": "code",
   "execution_count": 72,
   "metadata": {},
   "outputs": [
    {
     "data": {
      "text/plain": [
       "200"
      ]
     },
     "execution_count": 72,
     "metadata": {},
     "output_type": "execute_result"
    }
   ],
   "source": [
    "nd.size"
   ]
  },
  {
   "cell_type": "code",
   "execution_count": 74,
   "metadata": {},
   "outputs": [
    {
     "data": {
      "text/plain": [
       "3888000"
      ]
     },
     "execution_count": 74,
     "metadata": {},
     "output_type": "execute_result"
    }
   ],
   "source": [
    "girl.size"
   ]
  },
  {
   "cell_type": "code",
   "execution_count": 76,
   "metadata": {},
   "outputs": [
    {
     "data": {
      "text/plain": [
       "(900, 1440, 3)"
      ]
     },
     "execution_count": 76,
     "metadata": {},
     "output_type": "execute_result"
    }
   ],
   "source": [
    "girl.shape"
   ]
  },
  {
   "cell_type": "code",
   "execution_count": 77,
   "metadata": {},
   "outputs": [
    {
     "data": {
      "text/plain": [
       "dtype('uint8')"
      ]
     },
     "execution_count": 77,
     "metadata": {},
     "output_type": "execute_result"
    }
   ],
   "source": [
    "girl.dtype"
   ]
  },
  {
   "cell_type": "code",
   "execution_count": 78,
   "metadata": {},
   "outputs": [
    {
     "data": {
      "text/plain": [
       "dtype('int32')"
      ]
     },
     "execution_count": 78,
     "metadata": {},
     "output_type": "execute_result"
    }
   ],
   "source": [
    "nd.dtype"
   ]
  },
  {
   "cell_type": "code",
   "execution_count": 79,
   "metadata": {},
   "outputs": [
    {
     "data": {
      "text/plain": [
       "1"
      ]
     },
     "execution_count": 79,
     "metadata": {},
     "output_type": "execute_result"
    }
   ],
   "source": [
    "girl.itemsize"
   ]
  },
  {
   "cell_type": "code",
   "execution_count": 80,
   "metadata": {},
   "outputs": [
    {
     "data": {
      "text/plain": [
       "4"
      ]
     },
     "execution_count": 80,
     "metadata": {},
     "output_type": "execute_result"
    }
   ],
   "source": [
    "nd.itemsize"
   ]
  },
  {
   "cell_type": "code",
   "execution_count": 81,
   "metadata": {},
   "outputs": [
    {
     "data": {
      "text/plain": [
       "<memory at 0x0000021C315D6120>"
      ]
     },
     "execution_count": 81,
     "metadata": {},
     "output_type": "execute_result"
    }
   ],
   "source": [
    "nd.data"
   ]
  },
  {
   "cell_type": "markdown",
   "metadata": {},
   "source": [
    "## 三、ndarray的基本操作"
   ]
  },
  {
   "cell_type": "markdown",
   "metadata": {},
   "source": [
    "### 1、索引"
   ]
  },
  {
   "cell_type": "code",
   "execution_count": 83,
   "metadata": {},
   "outputs": [
    {
     "data": {
      "text/plain": [
       "6"
      ]
     },
     "execution_count": 83,
     "metadata": {},
     "output_type": "execute_result"
    }
   ],
   "source": [
    "l = [1,2,3,4,5,6]\n",
    "l[5]\n",
    "l[-1]"
   ]
  },
  {
   "cell_type": "code",
   "execution_count": 4,
   "metadata": {},
   "outputs": [
    {
     "data": {
      "text/plain": [
       "array([61, 85, 86, 75])"
      ]
     },
     "execution_count": 4,
     "metadata": {},
     "output_type": "execute_result"
    }
   ],
   "source": [
    "nd = np.random.randint(0,100,size=(4))\n",
    "nd"
   ]
  },
  {
   "cell_type": "code",
   "execution_count": 85,
   "metadata": {},
   "outputs": [
    {
     "data": {
      "text/plain": [
       "44"
      ]
     },
     "execution_count": 85,
     "metadata": {},
     "output_type": "execute_result"
    }
   ],
   "source": [
    "nd[1]"
   ]
  },
  {
   "cell_type": "code",
   "execution_count": 86,
   "metadata": {},
   "outputs": [
    {
     "data": {
      "text/plain": [
       "[[1, 2, 3], [4, 5, 6], [7, 8, 9]]"
      ]
     },
     "execution_count": 86,
     "metadata": {},
     "output_type": "execute_result"
    }
   ],
   "source": [
    "lp = [[1,2,3],[4,5,6],[7,8,9]]\n",
    "lp"
   ]
  },
  {
   "cell_type": "code",
   "execution_count": 88,
   "metadata": {},
   "outputs": [
    {
     "data": {
      "text/plain": [
       "2"
      ]
     },
     "execution_count": 88,
     "metadata": {},
     "output_type": "execute_result"
    }
   ],
   "source": [
    "lp[0][1]"
   ]
  },
  {
   "cell_type": "code",
   "execution_count": 89,
   "metadata": {},
   "outputs": [
    {
     "data": {
      "text/plain": [
       "array([[1, 2, 3],\n",
       "       [4, 5, 6],\n",
       "       [7, 8, 9]])"
      ]
     },
     "execution_count": 89,
     "metadata": {},
     "output_type": "execute_result"
    }
   ],
   "source": [
    "nd = np.array(lp)\n",
    "nd"
   ]
  },
  {
   "cell_type": "code",
   "execution_count": 91,
   "metadata": {},
   "outputs": [
    {
     "data": {
      "text/plain": [
       "2"
      ]
     },
     "execution_count": 91,
     "metadata": {},
     "output_type": "execute_result"
    }
   ],
   "source": [
    "nd[0,1]"
   ]
  },
  {
   "cell_type": "code",
   "execution_count": 92,
   "metadata": {},
   "outputs": [
    {
     "data": {
      "text/plain": [
       "array([[4, 5, 6],\n",
       "       [7, 8, 9]])"
      ]
     },
     "execution_count": 92,
     "metadata": {},
     "output_type": "execute_result"
    }
   ],
   "source": [
    "nd[[1,2]]"
   ]
  },
  {
   "cell_type": "code",
   "execution_count": 94,
   "metadata": {},
   "outputs": [
    {
     "data": {
      "text/plain": [
       "array([4, 6])"
      ]
     },
     "execution_count": 94,
     "metadata": {},
     "output_type": "execute_result"
    }
   ],
   "source": [
    "nd[1,[0,2]]"
   ]
  },
  {
   "cell_type": "code",
   "execution_count": 95,
   "metadata": {},
   "outputs": [
    {
     "data": {
      "text/plain": [
       "array([6, 7])"
      ]
     },
     "execution_count": 95,
     "metadata": {},
     "output_type": "execute_result"
    }
   ],
   "source": [
    "nd[[1,2],[2,0]]"
   ]
  },
  {
   "cell_type": "code",
   "execution_count": null,
   "metadata": {
    "collapsed": true
   },
   "outputs": [],
   "source": []
  },
  {
   "cell_type": "markdown",
   "metadata": {},
   "source": [
    "### 2、切片"
   ]
  },
  {
   "cell_type": "code",
   "execution_count": 96,
   "metadata": {},
   "outputs": [
    {
     "data": {
      "text/plain": [
       "array([[1, 2, 3],\n",
       "       [4, 5, 6],\n",
       "       [7, 8, 9]])"
      ]
     },
     "execution_count": 96,
     "metadata": {},
     "output_type": "execute_result"
    }
   ],
   "source": [
    "nd"
   ]
  },
  {
   "cell_type": "code",
   "execution_count": 6,
   "metadata": {},
   "outputs": [
    {
     "data": {
      "text/plain": [
       "array([61, 85, 86, 75])"
      ]
     },
     "execution_count": 6,
     "metadata": {},
     "output_type": "execute_result"
    }
   ],
   "source": [
    "nd[0:] # 前闭后开，后面的数字可以无限大"
   ]
  },
  {
   "cell_type": "code",
   "execution_count": 100,
   "metadata": {},
   "outputs": [
    {
     "data": {
      "text/plain": [
       "array([[1, 2, 3],\n",
       "       [4, 5, 6]])"
      ]
     },
     "execution_count": 100,
     "metadata": {},
     "output_type": "execute_result"
    }
   ],
   "source": [
    "nd[:2]"
   ]
  },
  {
   "cell_type": "code",
   "execution_count": 101,
   "metadata": {},
   "outputs": [
    {
     "data": {
      "text/plain": [
       "array([[4, 5, 6],\n",
       "       [7, 8, 9]])"
      ]
     },
     "execution_count": 101,
     "metadata": {},
     "output_type": "execute_result"
    }
   ],
   "source": [
    "nd[1:]"
   ]
  },
  {
   "cell_type": "code",
   "execution_count": 104,
   "metadata": {},
   "outputs": [
    {
     "data": {
      "text/plain": [
       "array([[7, 8, 9],\n",
       "       [4, 5, 6],\n",
       "       [1, 2, 3]])"
      ]
     },
     "execution_count": 104,
     "metadata": {},
     "output_type": "execute_result"
    }
   ],
   "source": [
    "nd[::-1]"
   ]
  },
  {
   "cell_type": "code",
   "execution_count": 107,
   "metadata": {},
   "outputs": [
    {
     "data": {
      "text/plain": [
       "array([[1, 2],\n",
       "       [4, 5],\n",
       "       [7, 8]])"
      ]
     },
     "execution_count": 107,
     "metadata": {},
     "output_type": "execute_result"
    }
   ],
   "source": [
    "nd[:,0:2]"
   ]
  },
  {
   "cell_type": "code",
   "execution_count": 108,
   "metadata": {},
   "outputs": [
    {
     "data": {
      "text/plain": [
       "array([[1, 2],\n",
       "       [4, 5]])"
      ]
     },
     "execution_count": 108,
     "metadata": {},
     "output_type": "execute_result"
    }
   ],
   "source": [
    "nd[0:2,0:2]"
   ]
  },
  {
   "cell_type": "markdown",
   "metadata": {},
   "source": [
    "### 3、变形"
   ]
  },
  {
   "cell_type": "markdown",
   "metadata": {},
   "source": [
    "reshpae()\n",
    "\n",
    "resize()"
   ]
  },
  {
   "cell_type": "code",
   "execution_count": 7,
   "metadata": {},
   "outputs": [
    {
     "data": {
      "text/plain": [
       "array([32, 87, 68,  1, 49, 79,  2, 14, 30, 82, 42, 29])"
      ]
     },
     "execution_count": 7,
     "metadata": {},
     "output_type": "execute_result"
    }
   ],
   "source": [
    "nd = np.random.randint(0,100,size=12)\n",
    "nd"
   ]
  },
  {
   "cell_type": "code",
   "execution_count": 8,
   "metadata": {},
   "outputs": [
    {
     "data": {
      "text/plain": [
       "array([[32, 87, 68,  1, 49, 79],\n",
       "       [ 2, 14, 30, 82, 42, 29]])"
      ]
     },
     "execution_count": 8,
     "metadata": {},
     "output_type": "execute_result"
    }
   ],
   "source": [
    "nd.reshape((2,6))"
   ]
  },
  {
   "cell_type": "code",
   "execution_count": 9,
   "metadata": {},
   "outputs": [
    {
     "ename": "ValueError",
     "evalue": "cannot reshape array of size 12 into shape (2,7)",
     "output_type": "error",
     "traceback": [
      "\u001b[1;31m---------------------------------------------------------------------------\u001b[0m",
      "\u001b[1;31mValueError\u001b[0m                                Traceback (most recent call last)",
      "\u001b[1;32m<ipython-input-9-435195c08eb2>\u001b[0m in \u001b[0;36m<module>\u001b[1;34m()\u001b[0m\n\u001b[1;32m----> 1\u001b[1;33m \u001b[0mnd\u001b[0m\u001b[1;33m.\u001b[0m\u001b[0mreshape\u001b[0m\u001b[1;33m(\u001b[0m\u001b[1;33m(\u001b[0m\u001b[1;36m2\u001b[0m\u001b[1;33m,\u001b[0m\u001b[1;36m7\u001b[0m\u001b[1;33m)\u001b[0m\u001b[1;33m)\u001b[0m \u001b[1;31m# 形变前后的size必须保持一致\u001b[0m\u001b[1;33m\u001b[0m\u001b[0m\n\u001b[0m",
      "\u001b[1;31mValueError\u001b[0m: cannot reshape array of size 12 into shape (2,7)"
     ]
    }
   ],
   "source": [
    "nd.reshape((2,7)) # 形变前后的size必须保持一致"
   ]
  },
  {
   "cell_type": "code",
   "execution_count": 10,
   "metadata": {
    "collapsed": true
   },
   "outputs": [
    {
     "data": {
      "text/plain": [
       "array([[[[[32]],\n",
       "\n",
       "         [[87]],\n",
       "\n",
       "         [[68]]],\n",
       "\n",
       "\n",
       "        [[[ 1]],\n",
       "\n",
       "         [[49]],\n",
       "\n",
       "         [[79]]]],\n",
       "\n",
       "\n",
       "\n",
       "       [[[[ 2]],\n",
       "\n",
       "         [[14]],\n",
       "\n",
       "         [[30]]],\n",
       "\n",
       "\n",
       "        [[[82]],\n",
       "\n",
       "         [[42]],\n",
       "\n",
       "         [[29]]]]])"
      ]
     },
     "execution_count": 10,
     "metadata": {},
     "output_type": "execute_result"
    }
   ],
   "source": [
    "nd.reshape((2,2,3,1,1,))"
   ]
  },
  {
   "cell_type": "code",
   "execution_count": 11,
   "metadata": {
    "scrolled": true
   },
   "outputs": [
    {
     "data": {
      "text/plain": [
       "array([32, 87, 68,  1, 49, 79,  2, 14, 30, 82, 42, 29])"
      ]
     },
     "execution_count": 11,
     "metadata": {},
     "output_type": "execute_result"
    }
   ],
   "source": [
    "nd"
   ]
  },
  {
   "cell_type": "code",
   "execution_count": 12,
   "metadata": {
    "collapsed": true
   },
   "outputs": [],
   "source": [
    "nd.resize((2,6))"
   ]
  },
  {
   "cell_type": "code",
   "execution_count": 13,
   "metadata": {},
   "outputs": [
    {
     "data": {
      "text/plain": [
       "array([[32, 87, 68,  1, 49, 79],\n",
       "       [ 2, 14, 30, 82, 42, 29]])"
      ]
     },
     "execution_count": 13,
     "metadata": {},
     "output_type": "execute_result"
    }
   ],
   "source": [
    "nd"
   ]
  },
  {
   "cell_type": "code",
   "execution_count": null,
   "metadata": {
    "collapsed": true
   },
   "outputs": [],
   "source": []
  },
  {
   "cell_type": "markdown",
   "metadata": {},
   "source": [
    "【注意】\n",
    "\n",
    "    1）形变之前和形变之后数组的size要保持一致\n",
    "    2）reshape()函数把原来的数组拷贝一个副本，把副本按照参数的形式进行形变，然后返回，原数组本身不变\n",
    "    3）resize()函数把原来的数组直接按照参数的形式进行形变"
   ]
  },
  {
   "cell_type": "code",
   "execution_count": null,
   "metadata": {
    "collapsed": true
   },
   "outputs": [],
   "source": []
  },
  {
   "cell_type": "markdown",
   "metadata": {},
   "source": [
    "### 4、级联"
   ]
  },
  {
   "cell_type": "markdown",
   "metadata": {},
   "source": [
    "级联：\n",
    "\n",
    "    级联就是按照指定的维度，把若干个数组链接在一起"
   ]
  },
  {
   "cell_type": "code",
   "execution_count": 14,
   "metadata": {},
   "outputs": [
    {
     "name": "stdout",
     "output_type": "stream",
     "text": [
      "[[91 23 88  0]\n",
      " [43 41  5 66]\n",
      " [20 64 35  4]\n",
      " [75  7  0  7]]\n",
      "[[75 13 62 43]\n",
      " [74 80 97 51]\n",
      " [ 6 82 36 26]]\n"
     ]
    }
   ],
   "source": [
    "nd1 = np.random.randint(0,100,size=(4,4))\n",
    "nd2 = np.random.randint(0,100,size=(3,4))\n",
    "print(nd1)\n",
    "print(nd2)"
   ]
  },
  {
   "cell_type": "code",
   "execution_count": 120,
   "metadata": {},
   "outputs": [
    {
     "data": {
      "text/plain": [
       "array([[15,  6, 90, 61],\n",
       "       [22,  0, 44, 45],\n",
       "       [88, 85, 74, 62],\n",
       "       [67,  6, 38, 99],\n",
       "       [17,  8, 89, 19],\n",
       "       [96,  4,  4, 18],\n",
       "       [70, 61, 39, 12]])"
      ]
     },
     "execution_count": 120,
     "metadata": {},
     "output_type": "execute_result"
    }
   ],
   "source": [
    "# 将两个数组进行级联\n",
    "np.concatenate([nd1,nd2],axis=0)\n",
    "# 参数1，是一个列表，里面是参与级联的那些数组\n",
    "# 参数2，axis用于指定级联的方向，默认是0代表在第0个维度上进行级联"
   ]
  },
  {
   "cell_type": "code",
   "execution_count": 121,
   "metadata": {},
   "outputs": [
    {
     "ename": "ValueError",
     "evalue": "all the input array dimensions except for the concatenation axis must match exactly",
     "output_type": "error",
     "traceback": [
      "\u001b[1;31m---------------------------------------------------------------------------\u001b[0m",
      "\u001b[1;31mValueError\u001b[0m                                Traceback (most recent call last)",
      "\u001b[1;32m<ipython-input-121-0a76346b819d>\u001b[0m in \u001b[0;36m<module>\u001b[1;34m()\u001b[0m\n\u001b[1;32m----> 1\u001b[1;33m \u001b[0mnp\u001b[0m\u001b[1;33m.\u001b[0m\u001b[0mconcatenate\u001b[0m\u001b[1;33m(\u001b[0m\u001b[1;33m[\u001b[0m\u001b[0mnd1\u001b[0m\u001b[1;33m,\u001b[0m\u001b[0mnd2\u001b[0m\u001b[1;33m]\u001b[0m\u001b[1;33m,\u001b[0m\u001b[0maxis\u001b[0m\u001b[1;33m=\u001b[0m\u001b[1;36m1\u001b[0m\u001b[1;33m)\u001b[0m\u001b[1;33m\u001b[0m\u001b[0m\n\u001b[0m",
      "\u001b[1;31mValueError\u001b[0m: all the input array dimensions except for the concatenation axis must match exactly"
     ]
    }
   ],
   "source": [
    "np.concatenate([nd1,nd2],axis=1) # 1代表在第1个维度上级联（列级联）"
   ]
  },
  {
   "cell_type": "code",
   "execution_count": 125,
   "metadata": {},
   "outputs": [
    {
     "data": {
      "text/plain": [
       "array([[32, 35, 29],\n",
       "       [16,  4, 45],\n",
       "       [19, 56, 57],\n",
       "       [35,  5, 20]])"
      ]
     },
     "execution_count": 125,
     "metadata": {},
     "output_type": "execute_result"
    }
   ],
   "source": [
    "nd3 = np.random.randint(0,100,size=(4,3))\n",
    "nd3"
   ]
  },
  {
   "cell_type": "code",
   "execution_count": 126,
   "metadata": {
    "scrolled": true
   },
   "outputs": [
    {
     "data": {
      "text/plain": [
       "array([[15,  6, 90, 61, 32, 35, 29],\n",
       "       [22,  0, 44, 45, 16,  4, 45],\n",
       "       [88, 85, 74, 62, 19, 56, 57],\n",
       "       [67,  6, 38, 99, 35,  5, 20]])"
      ]
     },
     "execution_count": 126,
     "metadata": {},
     "output_type": "execute_result"
    }
   ],
   "source": [
    "np.concatenate([nd1,nd3],axis=1)"
   ]
  },
  {
   "cell_type": "markdown",
   "metadata": {},
   "source": [
    "对行级联列数必须一样，对列级联行数必须一样"
   ]
  },
  {
   "cell_type": "markdown",
   "metadata": {},
   "source": [
    "推广"
   ]
  },
  {
   "cell_type": "code",
   "execution_count": 26,
   "metadata": {},
   "outputs": [
    {
     "name": "stdout",
     "output_type": "stream",
     "text": [
      "[[[5 9 7]\n",
      "  [7 4 3]]]\n",
      "[[[7 7 7]\n",
      "  [1 3 8]\n",
      "  [6 7 3]\n",
      "  [9 3 3]]]\n"
     ]
    }
   ],
   "source": [
    "nd4 = np.random.randint(0,10,size=(1,2,3))\n",
    "nd5 = np.random.randint(0,10,size=(1,4,3))\n",
    "print(nd4)\n",
    "print(nd5)"
   ]
  },
  {
   "cell_type": "markdown",
   "metadata": {},
   "source": [
    "1) 形状不同无法级联"
   ]
  },
  {
   "cell_type": "markdown",
   "metadata": {},
   "source": [
    "抛开参与级联的那个维度，剩下的维度如果一致则可以级联"
   ]
  },
  {
   "cell_type": "code",
   "execution_count": 27,
   "metadata": {},
   "outputs": [
    {
     "ename": "ValueError",
     "evalue": "all the input array dimensions except for the concatenation axis must match exactly",
     "output_type": "error",
     "traceback": [
      "\u001b[1;31m---------------------------------------------------------------------------\u001b[0m",
      "\u001b[1;31mValueError\u001b[0m                                Traceback (most recent call last)",
      "\u001b[1;32m<ipython-input-27-5900668a5ca7>\u001b[0m in \u001b[0;36m<module>\u001b[1;34m()\u001b[0m\n\u001b[1;32m----> 1\u001b[1;33m \u001b[0mnp\u001b[0m\u001b[1;33m.\u001b[0m\u001b[0mconcatenate\u001b[0m\u001b[1;33m(\u001b[0m\u001b[1;33m[\u001b[0m\u001b[0mnd4\u001b[0m\u001b[1;33m,\u001b[0m\u001b[0mnd5\u001b[0m\u001b[1;33m]\u001b[0m\u001b[1;33m,\u001b[0m\u001b[0maxis\u001b[0m\u001b[1;33m=\u001b[0m\u001b[1;36m0\u001b[0m\u001b[1;33m)\u001b[0m\u001b[1;33m\u001b[0m\u001b[0m\n\u001b[0m",
      "\u001b[1;31mValueError\u001b[0m: all the input array dimensions except for the concatenation axis must match exactly"
     ]
    }
   ],
   "source": [
    "np.concatenate([nd4,nd5],axis=0)"
   ]
  },
  {
   "cell_type": "code",
   "execution_count": 18,
   "metadata": {},
   "outputs": [
    {
     "data": {
      "text/plain": [
       "array([[[3, 0, 9],\n",
       "        [7, 0, 9],\n",
       "        [2, 5, 8],\n",
       "        [0, 9, 4],\n",
       "        [6, 8, 7],\n",
       "        [7, 9, 4]]])"
      ]
     },
     "execution_count": 18,
     "metadata": {},
     "output_type": "execute_result"
    }
   ],
   "source": [
    "np.concatenate([nd4,nd5],axis=1)"
   ]
  },
  {
   "cell_type": "markdown",
   "metadata": {},
   "source": [
    "2）维度不一致，无法级联"
   ]
  },
  {
   "cell_type": "code",
   "execution_count": 21,
   "metadata": {},
   "outputs": [
    {
     "data": {
      "text/plain": [
       "array([2, 3, 6])"
      ]
     },
     "execution_count": 21,
     "metadata": {},
     "output_type": "execute_result"
    }
   ],
   "source": [
    "nd6 = np.random.randint(0,10,size=3)\n",
    "nd6"
   ]
  },
  {
   "cell_type": "code",
   "execution_count": 23,
   "metadata": {},
   "outputs": [
    {
     "ename": "ValueError",
     "evalue": "all the input arrays must have same number of dimensions",
     "output_type": "error",
     "traceback": [
      "\u001b[1;31m---------------------------------------------------------------------------\u001b[0m",
      "\u001b[1;31mValueError\u001b[0m                                Traceback (most recent call last)",
      "\u001b[1;32m<ipython-input-23-cdaa4bc19941>\u001b[0m in \u001b[0;36m<module>\u001b[1;34m()\u001b[0m\n\u001b[1;32m----> 1\u001b[1;33m \u001b[0mnp\u001b[0m\u001b[1;33m.\u001b[0m\u001b[0mconcatenate\u001b[0m\u001b[1;33m(\u001b[0m\u001b[1;33m[\u001b[0m\u001b[0mnd4\u001b[0m\u001b[1;33m,\u001b[0m\u001b[0mnd6\u001b[0m\u001b[1;33m]\u001b[0m\u001b[1;33m)\u001b[0m\u001b[1;33m\u001b[0m\u001b[0m\n\u001b[0m",
      "\u001b[1;31mValueError\u001b[0m: all the input arrays must have same number of dimensions"
     ]
    }
   ],
   "source": [
    "np.concatenate([nd4,nd6]) # all the input arrays must have same number of dimensions"
   ]
  },
  {
   "cell_type": "markdown",
   "metadata": {},
   "source": [
    "【注意】\n",
    "\n",
    "    1）数组级联的时候用axis去指定级联方向，axis默认是0\n",
    "    2）两个数组抛开参与级联的那个维度以后，剩下的维度如果相同则可以进行级联，否则不能级联\n",
    "    3）两个数组级联维度必须一致"
   ]
  },
  {
   "cell_type": "markdown",
   "metadata": {},
   "source": [
    "### 5、切分"
   ]
  },
  {
   "cell_type": "markdown",
   "metadata": {},
   "source": [
    "hsplit()\n",
    "\n",
    "vsplit()\n",
    "\n",
    "split()"
   ]
  },
  {
   "cell_type": "code",
   "execution_count": 1,
   "metadata": {},
   "outputs": [
    {
     "ename": "NameError",
     "evalue": "name 'np' is not defined",
     "output_type": "error",
     "traceback": [
      "\u001b[1;31m---------------------------------------------------------------------------\u001b[0m",
      "\u001b[1;31mNameError\u001b[0m                                 Traceback (most recent call last)",
      "\u001b[1;32m<ipython-input-1-a3ed33763140>\u001b[0m in \u001b[0;36m<module>\u001b[1;34m()\u001b[0m\n\u001b[1;32m----> 1\u001b[1;33m \u001b[0mnd\u001b[0m \u001b[1;33m=\u001b[0m \u001b[0mnp\u001b[0m\u001b[1;33m.\u001b[0m\u001b[0mrandom\u001b[0m\u001b[1;33m.\u001b[0m\u001b[0mrandint\u001b[0m\u001b[1;33m(\u001b[0m\u001b[1;36m0\u001b[0m\u001b[1;33m,\u001b[0m\u001b[1;36m100\u001b[0m\u001b[1;33m,\u001b[0m\u001b[0msize\u001b[0m\u001b[1;33m=\u001b[0m\u001b[1;33m(\u001b[0m\u001b[1;36m5\u001b[0m\u001b[1;33m,\u001b[0m\u001b[1;36m6\u001b[0m\u001b[1;33m)\u001b[0m\u001b[1;33m)\u001b[0m\u001b[1;33m\u001b[0m\u001b[0m\n\u001b[0m\u001b[0;32m      2\u001b[0m \u001b[0mnd\u001b[0m\u001b[1;33m\u001b[0m\u001b[0m\n",
      "\u001b[1;31mNameError\u001b[0m: name 'np' is not defined"
     ]
    }
   ],
   "source": [
    "nd = np.random.randint(0,100,size=(5,6))\n",
    "nd"
   ]
  },
  {
   "cell_type": "code",
   "execution_count": 2,
   "metadata": {},
   "outputs": [
    {
     "ename": "NameError",
     "evalue": "name 'np' is not defined",
     "output_type": "error",
     "traceback": [
      "\u001b[1;31m---------------------------------------------------------------------------\u001b[0m",
      "\u001b[1;31mNameError\u001b[0m                                 Traceback (most recent call last)",
      "\u001b[1;32m<ipython-input-2-7538fbed36b1>\u001b[0m in \u001b[0;36m<module>\u001b[1;34m()\u001b[0m\n\u001b[0;32m      1\u001b[0m \u001b[1;31m# 水平方向上切片\u001b[0m\u001b[1;33m\u001b[0m\u001b[1;33m\u001b[0m\u001b[0m\n\u001b[1;32m----> 2\u001b[1;33m \u001b[0mnp\u001b[0m\u001b[1;33m.\u001b[0m\u001b[0mhsplit\u001b[0m\u001b[1;33m(\u001b[0m\u001b[0mnd\u001b[0m\u001b[1;33m,\u001b[0m\u001b[1;33m[\u001b[0m\u001b[1;36m1\u001b[0m\u001b[1;33m,\u001b[0m\u001b[1;36m3\u001b[0m\u001b[1;33m]\u001b[0m\u001b[1;33m)\u001b[0m\u001b[1;33m\u001b[0m\u001b[0m\n\u001b[0m\u001b[0;32m      3\u001b[0m \u001b[1;31m# 参数1，待切分的那个数组  参数2，列表，里面的元素就是切分点\u001b[0m\u001b[1;33m\u001b[0m\u001b[1;33m\u001b[0m\u001b[0m\n",
      "\u001b[1;31mNameError\u001b[0m: name 'np' is not defined"
     ]
    }
   ],
   "source": [
    "# 水平方向上切片\n",
    "np.hsplit(nd,[1,3])\n",
    "# 参数1，待切分的那个数组  参数2，列表，里面的元素就是切分点"
   ]
  },
  {
   "cell_type": "code",
   "execution_count": 32,
   "metadata": {
    "collapsed": true
   },
   "outputs": [
    {
     "data": {
      "text/plain": [
       "[array([[76, 38, 90, 99, 83, 65]]), array([[36, 24,  5, 50, 60, 84],\n",
       "        [53, 86, 51, 87, 83, 97],\n",
       "        [59, 42, 13,  8,  4, 66],\n",
       "        [ 8, 14,  4, 92, 10, 59]]), array([], shape=(0, 6), dtype=int32)]"
      ]
     },
     "execution_count": 32,
     "metadata": {},
     "output_type": "execute_result"
    }
   ],
   "source": [
    "np.vsplit(nd,[1,5])"
   ]
  },
  {
   "cell_type": "code",
   "execution_count": 36,
   "metadata": {
    "collapsed": true
   },
   "outputs": [
    {
     "data": {
      "text/plain": [
       "[array([[76],\n",
       "        [36],\n",
       "        [53],\n",
       "        [59],\n",
       "        [ 8]]), array([[38],\n",
       "        [24],\n",
       "        [86],\n",
       "        [42],\n",
       "        [14]]), array([[90, 99, 83, 65],\n",
       "        [ 5, 50, 60, 84],\n",
       "        [51, 87, 83, 97],\n",
       "        [13,  8,  4, 66],\n",
       "        [ 4, 92, 10, 59]])]"
      ]
     },
     "execution_count": 36,
     "metadata": {},
     "output_type": "execute_result"
    }
   ],
   "source": [
    "np.split(nd,[1,2],axis=1)\n",
    "# axis默认为0代表在横向上进行切分，为1代表在纵向上进行切分"
   ]
  },
  {
   "cell_type": "markdown",
   "metadata": {},
   "source": [
    "### 6、副本"
   ]
  },
  {
   "cell_type": "code",
   "execution_count": 39,
   "metadata": {},
   "outputs": [
    {
     "data": {
      "text/plain": [
       "array([9, 0, 7, 7, 9])"
      ]
     },
     "execution_count": 39,
     "metadata": {},
     "output_type": "execute_result"
    }
   ],
   "source": [
    "nd = np.random.randint(0,10,size=5)\n",
    "nd"
   ]
  },
  {
   "cell_type": "code",
   "execution_count": 40,
   "metadata": {
    "collapsed": true
   },
   "outputs": [],
   "source": [
    "nd1 = nd # 引用拷贝"
   ]
  },
  {
   "cell_type": "code",
   "execution_count": 41,
   "metadata": {
    "collapsed": true
   },
   "outputs": [],
   "source": [
    "nd1[0] = 1000"
   ]
  },
  {
   "cell_type": "code",
   "execution_count": 42,
   "metadata": {},
   "outputs": [
    {
     "data": {
      "text/plain": [
       "array([1000,    0,    7,    7,    9])"
      ]
     },
     "execution_count": 42,
     "metadata": {},
     "output_type": "execute_result"
    }
   ],
   "source": [
    "nd"
   ]
  },
  {
   "cell_type": "code",
   "execution_count": 43,
   "metadata": {
    "collapsed": true
   },
   "outputs": [],
   "source": [
    "nd2 = nd.copy() # 副本拷贝"
   ]
  },
  {
   "cell_type": "code",
   "execution_count": 44,
   "metadata": {
    "collapsed": true
   },
   "outputs": [],
   "source": [
    "nd2[1] = 2000"
   ]
  },
  {
   "cell_type": "code",
   "execution_count": 46,
   "metadata": {},
   "outputs": [
    {
     "data": {
      "text/plain": [
       "array([1000,    0,    7,    7,    9])"
      ]
     },
     "execution_count": 46,
     "metadata": {},
     "output_type": "execute_result"
    }
   ],
   "source": [
    "nd"
   ]
  },
  {
   "cell_type": "code",
   "execution_count": 47,
   "metadata": {},
   "outputs": [
    {
     "data": {
      "text/plain": [
       "array([1000, 2000,    7,    7,    9])"
      ]
     },
     "execution_count": 47,
     "metadata": {},
     "output_type": "execute_result"
    }
   ],
   "source": [
    "nd2"
   ]
  },
  {
   "cell_type": "markdown",
   "metadata": {},
   "source": [
    "从列表创建数组有没有进行副本的拷贝？"
   ]
  },
  {
   "cell_type": "code",
   "execution_count": 49,
   "metadata": {},
   "outputs": [
    {
     "data": {
      "text/plain": [
       "[1, 2, 3, 4]"
      ]
     },
     "execution_count": 49,
     "metadata": {},
     "output_type": "execute_result"
    }
   ],
   "source": [
    "l = [1,2,3,4]\n",
    "l"
   ]
  },
  {
   "cell_type": "code",
   "execution_count": 51,
   "metadata": {},
   "outputs": [
    {
     "data": {
      "text/plain": [
       "array([1, 2, 3, 4])"
      ]
     },
     "execution_count": 51,
     "metadata": {},
     "output_type": "execute_result"
    }
   ],
   "source": [
    "nd = np.array(l)\n",
    "nd"
   ]
  },
  {
   "cell_type": "code",
   "execution_count": 52,
   "metadata": {
    "collapsed": true
   },
   "outputs": [],
   "source": [
    "l[0] = 1000"
   ]
  },
  {
   "cell_type": "code",
   "execution_count": 53,
   "metadata": {},
   "outputs": [
    {
     "data": {
      "text/plain": [
       "array([1, 2, 3, 4])"
      ]
     },
     "execution_count": 53,
     "metadata": {},
     "output_type": "execute_result"
    }
   ],
   "source": [
    "nd"
   ]
  },
  {
   "cell_type": "markdown",
   "metadata": {},
   "source": [
    "## 四、ndarray的聚合操作"
   ]
  },
  {
   "cell_type": "markdown",
   "metadata": {},
   "source": [
    "聚合操作指的就是对数组内部的数据进行某些特性的求解"
   ]
  },
  {
   "cell_type": "markdown",
   "metadata": {},
   "source": [
    "### 1、求和"
   ]
  },
  {
   "cell_type": "code",
   "execution_count": 54,
   "metadata": {},
   "outputs": [
    {
     "data": {
      "text/plain": [
       "array([[0, 4, 9, 4],\n",
       "       [4, 2, 5, 3],\n",
       "       [7, 1, 2, 9]])"
      ]
     },
     "execution_count": 54,
     "metadata": {},
     "output_type": "execute_result"
    }
   ],
   "source": [
    "nd = np.random.randint(0,10,size=(3,4))\n",
    "nd"
   ]
  },
  {
   "cell_type": "code",
   "execution_count": 55,
   "metadata": {},
   "outputs": [
    {
     "data": {
      "text/plain": [
       "50"
      ]
     },
     "execution_count": 55,
     "metadata": {},
     "output_type": "execute_result"
    }
   ],
   "source": [
    "nd.sum() # 完全聚合：把数组中所有数据都聚合在一起进行某个特征的求解"
   ]
  },
  {
   "cell_type": "code",
   "execution_count": 56,
   "metadata": {
    "scrolled": true
   },
   "outputs": [
    {
     "data": {
      "text/plain": [
       "array([11,  7, 16, 16])"
      ]
     },
     "execution_count": 56,
     "metadata": {},
     "output_type": "execute_result"
    }
   ],
   "source": [
    "nd.sum(axis=0) # 对第0个维度进行求和运算"
   ]
  },
  {
   "cell_type": "code",
   "execution_count": 57,
   "metadata": {},
   "outputs": [
    {
     "data": {
      "text/plain": [
       "array([17, 14, 19])"
      ]
     },
     "execution_count": 57,
     "metadata": {},
     "output_type": "execute_result"
    }
   ],
   "source": [
    "nd.sum(axis=1)"
   ]
  },
  {
   "cell_type": "markdown",
   "metadata": {},
   "source": [
    "对某个维度进行聚合，这个维度就会被消除，取而代之的是聚合后的结果"
   ]
  },
  {
   "cell_type": "markdown",
   "metadata": {},
   "source": [
    "### 2、最值"
   ]
  },
  {
   "cell_type": "code",
   "execution_count": 58,
   "metadata": {},
   "outputs": [
    {
     "data": {
      "text/plain": [
       "9"
      ]
     },
     "execution_count": 58,
     "metadata": {},
     "output_type": "execute_result"
    }
   ],
   "source": [
    "nd.max()"
   ]
  },
  {
   "cell_type": "code",
   "execution_count": 59,
   "metadata": {},
   "outputs": [
    {
     "data": {
      "text/plain": [
       "array([7, 4, 9, 9])"
      ]
     },
     "execution_count": 59,
     "metadata": {},
     "output_type": "execute_result"
    }
   ],
   "source": [
    "nd.max(axis=0)"
   ]
  },
  {
   "cell_type": "code",
   "execution_count": 60,
   "metadata": {},
   "outputs": [
    {
     "data": {
      "text/plain": [
       "0"
      ]
     },
     "execution_count": 60,
     "metadata": {},
     "output_type": "execute_result"
    }
   ],
   "source": [
    "nd.min()"
   ]
  },
  {
   "cell_type": "code",
   "execution_count": 61,
   "metadata": {},
   "outputs": [
    {
     "data": {
      "text/plain": [
       "array([0, 2, 1])"
      ]
     },
     "execution_count": 61,
     "metadata": {},
     "output_type": "execute_result"
    }
   ],
   "source": [
    "nd.min(axis=1)"
   ]
  },
  {
   "cell_type": "markdown",
   "metadata": {},
   "source": [
    "### 3、其他聚合操作"
   ]
  },
  {
   "cell_type": "markdown",
   "metadata": {
    "collapsed": true
   },
   "source": [
    "    Function Name\tNaN-safe Version\tDescription\n",
    "    np.sum\tnp.nansum\tCompute sum of elements\n",
    "    np.prod\tnp.nanprod\tCompute product of elements\n",
    "    np.mean\tnp.nanmean\tCompute mean of elements\n",
    "    np.std\tnp.nanstd\tCompute standard deviation\n",
    "    np.var\tnp.nanvar\tCompute variance\n",
    "    np.min\tnp.nanmin\tFind minimum value\n",
    "    np.max\tnp.nanmax\tFind maximum value\n",
    "    np.argmin\tnp.nanargmin\tFind index of minimum value\n",
    "    np.argmax\tnp.nanargmax\tFind index of maximum value\n",
    "    np.median\tnp.nanmedian\tCompute median of elements\n",
    "    np.percentile\tnp.nanpercentile\tCompute rank-based statistics of elements\n",
    "    np.any\tN/A\tEvaluate whether any elements are true\n",
    "    np.all\tN/A\tEvaluate whether all elements are true\n",
    "    np.power 幂运算"
   ]
  },
  {
   "cell_type": "code",
   "execution_count": 63,
   "metadata": {},
   "outputs": [
    {
     "data": {
      "text/plain": [
       "float"
      ]
     },
     "execution_count": 63,
     "metadata": {},
     "output_type": "execute_result"
    }
   ],
   "source": [
    "type(np.nan)"
   ]
  },
  {
   "cell_type": "code",
   "execution_count": 64,
   "metadata": {},
   "outputs": [
    {
     "data": {
      "text/plain": [
       "nan"
      ]
     },
     "execution_count": 64,
     "metadata": {},
     "output_type": "execute_result"
    }
   ],
   "source": [
    "np.nan + 100"
   ]
  },
  {
   "cell_type": "code",
   "execution_count": 65,
   "metadata": {},
   "outputs": [
    {
     "data": {
      "text/plain": [
       "nan"
      ]
     },
     "execution_count": 65,
     "metadata": {},
     "output_type": "execute_result"
    }
   ],
   "source": [
    "# np.nan本质是一个浮点类型可以和任何数字进行任何的数学运算，无论进行什么数学运算，最终都会得到nan\n",
    "np.nan**2"
   ]
  },
  {
   "cell_type": "code",
   "execution_count": 66,
   "metadata": {},
   "outputs": [
    {
     "data": {
      "text/plain": [
       "array([ 12.,  13.,  nan,  14.])"
      ]
     },
     "execution_count": 66,
     "metadata": {},
     "output_type": "execute_result"
    }
   ],
   "source": [
    "nd1 = np.array([12,13,np.nan,14])\n",
    "nd1"
   ]
  },
  {
   "cell_type": "code",
   "execution_count": 67,
   "metadata": {},
   "outputs": [
    {
     "data": {
      "text/plain": [
       "nan"
      ]
     },
     "execution_count": 67,
     "metadata": {},
     "output_type": "execute_result"
    }
   ],
   "source": [
    "nd1.sum() # 含有nan的数组进行任何的聚合操作的时候，得到都是nan"
   ]
  },
  {
   "cell_type": "code",
   "execution_count": 68,
   "metadata": {},
   "outputs": [
    {
     "data": {
      "text/plain": [
       "39.0"
      ]
     },
     "execution_count": 68,
     "metadata": {},
     "output_type": "execute_result"
    }
   ],
   "source": [
    "np.nansum(nd1) # 对于含有nan的数组，进行聚合操作的时候，要用以nan为前缀聚合函数\n",
    "# 此时在聚合的时候，nan的那些元素会被直接的忽略掉"
   ]
  },
  {
   "cell_type": "code",
   "execution_count": 69,
   "metadata": {},
   "outputs": [
    {
     "data": {
      "text/plain": [
       "13.0"
      ]
     },
     "execution_count": 69,
     "metadata": {},
     "output_type": "execute_result"
    }
   ],
   "source": [
    "np.nanmean(nd1)"
   ]
  },
  {
   "cell_type": "markdown",
   "metadata": {},
   "source": [
    "##### 思考题：给定一个4维数组，如何得到最后两维的和？"
   ]
  },
  {
   "cell_type": "code",
   "execution_count": 70,
   "metadata": {},
   "outputs": [
    {
     "data": {
      "text/plain": [
       "array([[[[4, 6, 1, 4],\n",
       "         [3, 0, 3, 0],\n",
       "         [4, 4, 3, 9]],\n",
       "\n",
       "        [[5, 2, 2, 0],\n",
       "         [6, 2, 8, 9],\n",
       "         [0, 8, 0, 6]]]])"
      ]
     },
     "execution_count": 70,
     "metadata": {},
     "output_type": "execute_result"
    }
   ],
   "source": [
    "nd1 = np.random.randint(0,10,size=(1,2,3,4))\n",
    "nd1"
   ]
  },
  {
   "cell_type": "code",
   "execution_count": 75,
   "metadata": {},
   "outputs": [
    {
     "data": {
      "text/plain": [
       "array([[[15,  6, 20],\n",
       "        [ 9, 25, 14]]])"
      ]
     },
     "execution_count": 75,
     "metadata": {},
     "output_type": "execute_result"
    }
   ],
   "source": [
    "nd2 = nd1.sum(axis=3)\n",
    "nd2"
   ]
  },
  {
   "cell_type": "code",
   "execution_count": 76,
   "metadata": {},
   "outputs": [
    {
     "data": {
      "text/plain": [
       "array([[41, 48]])"
      ]
     },
     "execution_count": 76,
     "metadata": {},
     "output_type": "execute_result"
    }
   ],
   "source": [
    "nd2.sum(axis=2)"
   ]
  },
  {
   "cell_type": "markdown",
   "metadata": {},
   "source": [
    "##### 思考题：如何根据第3列来对一个5*5矩阵排序？"
   ]
  },
  {
   "cell_type": "code",
   "execution_count": 81,
   "metadata": {},
   "outputs": [
    {
     "data": {
      "text/plain": [
       "array([[11, 38, 23, 22, 63],\n",
       "       [50, 46, 83, 10, 54],\n",
       "       [73, 56,  5, 93, 84],\n",
       "       [79, 22, 48, 17, 25],\n",
       "       [20, 33, 14, 21, 91]])"
      ]
     },
     "execution_count": 81,
     "metadata": {},
     "output_type": "execute_result"
    }
   ],
   "source": [
    "nd = np.random.randint(0,100,size=(5,5))\n",
    "nd"
   ]
  },
  {
   "cell_type": "code",
   "execution_count": 83,
   "metadata": {},
   "outputs": [
    {
     "data": {
      "text/plain": [
       "array([22, 10, 93, 17, 21])"
      ]
     },
     "execution_count": 83,
     "metadata": {},
     "output_type": "execute_result"
    }
   ],
   "source": [
    "# 取出第三列\n",
    "nd[:,3]"
   ]
  },
  {
   "cell_type": "code",
   "execution_count": 84,
   "metadata": {},
   "outputs": [
    {
     "data": {
      "text/plain": [
       "array([[11, 22, 23, 38, 63],\n",
       "       [10, 46, 50, 54, 83],\n",
       "       [ 5, 56, 73, 84, 93],\n",
       "       [17, 22, 25, 48, 79],\n",
       "       [14, 20, 21, 33, 91]])"
      ]
     },
     "execution_count": 84,
     "metadata": {},
     "output_type": "execute_result"
    }
   ],
   "source": [
    "np.sort(nd)"
   ]
  },
  {
   "cell_type": "code",
   "execution_count": 85,
   "metadata": {},
   "outputs": [
    {
     "data": {
      "text/plain": [
       "array([10, 17, 21, 22, 93])"
      ]
     },
     "execution_count": 85,
     "metadata": {},
     "output_type": "execute_result"
    }
   ],
   "source": [
    "np.sort(nd[:,3])\n",
    "# 现在这种排序得到是排序以后的元素的排列"
   ]
  },
  {
   "cell_type": "code",
   "execution_count": 87,
   "metadata": {},
   "outputs": [],
   "source": [
    "# 如果能够得到元素下标的排，就可以完成本次\n",
    "ind = np.argsort(nd[:,3])"
   ]
  },
  {
   "cell_type": "code",
   "execution_count": 88,
   "metadata": {
    "collapsed": true
   },
   "outputs": [
    {
     "data": {
      "text/plain": [
       "array([[50, 46, 83, 10, 54],\n",
       "       [79, 22, 48, 17, 25],\n",
       "       [20, 33, 14, 21, 91],\n",
       "       [11, 38, 23, 22, 63],\n",
       "       [73, 56,  5, 93, 84]])"
      ]
     },
     "execution_count": 88,
     "metadata": {},
     "output_type": "execute_result"
    }
   ],
   "source": [
    "nd[ind]"
   ]
  },
  {
   "cell_type": "markdown",
   "metadata": {},
   "source": [
    "## 五、ndarray的矩阵操作"
   ]
  },
  {
   "cell_type": "markdown",
   "metadata": {},
   "source": [
    "### 1. 基本矩阵操作"
   ]
  },
  {
   "cell_type": "markdown",
   "metadata": {},
   "source": [
    "###### 1）算术运算（即加减乘除）"
   ]
  },
  {
   "cell_type": "code",
   "execution_count": 90,
   "metadata": {},
   "outputs": [
    {
     "data": {
      "text/plain": [
       "array([[10, 58, 33],\n",
       "       [96, 48, 25],\n",
       "       [89, 74, 88]])"
      ]
     },
     "execution_count": 90,
     "metadata": {},
     "output_type": "execute_result"
    }
   ],
   "source": [
    "nd = np.random.randint(0,100,size=(3,3))\n",
    "nd"
   ]
  },
  {
   "cell_type": "markdown",
   "metadata": {},
   "source": [
    "加减：数学矩阵的加减针对的是两矩阵之间的运算（不存在矩阵和常数的加减）"
   ]
  },
  {
   "cell_type": "code",
   "execution_count": 91,
   "metadata": {},
   "outputs": [
    {
     "data": {
      "text/plain": [
       "array([[ 20, 116,  66],\n",
       "       [192,  96,  50],\n",
       "       [178, 148, 176]])"
      ]
     },
     "execution_count": 91,
     "metadata": {},
     "output_type": "execute_result"
    }
   ],
   "source": [
    "nd + nd"
   ]
  },
  {
   "cell_type": "code",
   "execution_count": 92,
   "metadata": {
    "collapsed": true
   },
   "outputs": [],
   "source": [
    "nd1 = np.random.randint(0,100,size=(3,2))"
   ]
  },
  {
   "cell_type": "code",
   "execution_count": 93,
   "metadata": {},
   "outputs": [
    {
     "ename": "ValueError",
     "evalue": "operands could not be broadcast together with shapes (3,3) (3,2) ",
     "output_type": "error",
     "traceback": [
      "\u001b[1;31m---------------------------------------------------------------------------\u001b[0m",
      "\u001b[1;31mValueError\u001b[0m                                Traceback (most recent call last)",
      "\u001b[1;32m<ipython-input-93-de463172012d>\u001b[0m in \u001b[0;36m<module>\u001b[1;34m()\u001b[0m\n\u001b[1;32m----> 1\u001b[1;33m \u001b[0mnd\u001b[0m\u001b[1;33m+\u001b[0m\u001b[0mnd1\u001b[0m\u001b[1;33m\u001b[0m\u001b[0m\n\u001b[0m",
      "\u001b[1;31mValueError\u001b[0m: operands could not be broadcast together with shapes (3,3) (3,2) "
     ]
    }
   ],
   "source": [
    "nd+nd1 # 矩阵相加减形状必须一致"
   ]
  },
  {
   "cell_type": "markdown",
   "metadata": {},
   "source": [
    "乘除：矩阵可以和常数之间进行乘除，矩阵可以和矩阵之间进行乘"
   ]
  },
  {
   "cell_type": "code",
   "execution_count": 94,
   "metadata": {},
   "outputs": [
    {
     "data": {
      "text/plain": [
       "array([[ 50, 290, 165],\n",
       "       [480, 240, 125],\n",
       "       [445, 370, 440]])"
      ]
     },
     "execution_count": 94,
     "metadata": {},
     "output_type": "execute_result"
    }
   ],
   "source": [
    "nd * 5"
   ]
  },
  {
   "cell_type": "code",
   "execution_count": 95,
   "metadata": {},
   "outputs": [
    {
     "data": {
      "text/plain": [
       "array([[  3.33333333,  19.33333333,  11.        ],\n",
       "       [ 32.        ,  16.        ,   8.33333333],\n",
       "       [ 29.66666667,  24.66666667,  29.33333333]])"
      ]
     },
     "execution_count": 95,
     "metadata": {},
     "output_type": "execute_result"
    }
   ],
   "source": [
    "nd / 3"
   ]
  },
  {
   "cell_type": "code",
   "execution_count": null,
   "metadata": {
    "collapsed": true
   },
   "outputs": [],
   "source": []
  },
  {
   "cell_type": "markdown",
   "metadata": {},
   "source": [
    "###### 2）矩阵积"
   ]
  },
  {
   "cell_type": "code",
   "execution_count": 96,
   "metadata": {
    "collapsed": true
   },
   "outputs": [
    {
     "name": "stdout",
     "output_type": "stream",
     "text": [
      "[[7 8 1]\n",
      " [1 9 2]]\n",
      "[[4 2 6]\n",
      " [2 9 7]\n",
      " [2 2 2]]\n"
     ]
    }
   ],
   "source": [
    "nd1 = np.random.randint(0,10,size=(2,3))\n",
    "nd2 = np.random.randint(0,10,size=(3,3))\n",
    "print(nd1)\n",
    "print(nd2)"
   ]
  },
  {
   "cell_type": "code",
   "execution_count": 97,
   "metadata": {
    "collapsed": true
   },
   "outputs": [
    {
     "data": {
      "text/plain": [
       "array([[ 46,  88, 100],\n",
       "       [ 26,  87,  73]])"
      ]
     },
     "execution_count": 97,
     "metadata": {},
     "output_type": "execute_result"
    }
   ],
   "source": [
    "np.dot(nd1,nd2)"
   ]
  },
  {
   "cell_type": "code",
   "execution_count": 98,
   "metadata": {
    "collapsed": true
   },
   "outputs": [
    {
     "ename": "TypeError",
     "evalue": "Required argument 'b' (pos 2) not found",
     "output_type": "error",
     "traceback": [
      "\u001b[1;31m---------------------------------------------------------------------------\u001b[0m",
      "\u001b[1;31mTypeError\u001b[0m                                 Traceback (most recent call last)",
      "\u001b[1;32m<ipython-input-98-6ca0688296d1>\u001b[0m in \u001b[0;36m<module>\u001b[1;34m()\u001b[0m\n\u001b[1;32m----> 1\u001b[1;33m \u001b[0mnp\u001b[0m\u001b[1;33m.\u001b[0m\u001b[0mdot\u001b[0m\u001b[1;33m(\u001b[0m\u001b[1;33m[\u001b[0m\u001b[0mnd2\u001b[0m\u001b[1;33m,\u001b[0m\u001b[0mnd1\u001b[0m\u001b[1;33m]\u001b[0m\u001b[1;33m)\u001b[0m\u001b[1;33m\u001b[0m\u001b[0m\n\u001b[0m",
      "\u001b[1;31mTypeError\u001b[0m: Required argument 'b' (pos 2) not found"
     ]
    }
   ],
   "source": [
    "np.dot([nd2,nd1])"
   ]
  },
  {
   "cell_type": "markdown",
   "metadata": {},
   "source": [
    "[[7 8 1]  [[4 2 6]\n",
    "[1 9 2]]  [2 9 7]\n",
    "       [2 2 2]]\n",
    " "
   ]
  },
  {
   "cell_type": "markdown",
   "metadata": {},
   "source": [
    "### 2. 广播机制"
   ]
  },
  {
   "cell_type": "markdown",
   "metadata": {},
   "source": [
    "ndarray的广播机制的两条规则：\n",
    "- 1、为缺失维度补1\n",
    "- 2、假定缺失的元素用已有值填充"
   ]
  },
  {
   "cell_type": "code",
   "execution_count": 99,
   "metadata": {},
   "outputs": [
    {
     "data": {
      "text/plain": [
       "array([[10, 58, 33],\n",
       "       [96, 48, 25],\n",
       "       [89, 74, 88]])"
      ]
     },
     "execution_count": 99,
     "metadata": {},
     "output_type": "execute_result"
    }
   ],
   "source": [
    "nd"
   ]
  },
  {
   "cell_type": "code",
   "execution_count": 100,
   "metadata": {},
   "outputs": [
    {
     "data": {
      "text/plain": [
       "array([60, 75, 17])"
      ]
     },
     "execution_count": 100,
     "metadata": {},
     "output_type": "execute_result"
    }
   ],
   "source": [
    "v1 = np.random.randint(0,100,size=3)\n",
    "v1 # 一维数组也叫做行向量"
   ]
  },
  {
   "cell_type": "code",
   "execution_count": 105,
   "metadata": {},
   "outputs": [
    {
     "data": {
      "text/plain": [
       "array([[96],\n",
       "       [65],\n",
       "       [39]])"
      ]
     },
     "execution_count": 105,
     "metadata": {},
     "output_type": "execute_result"
    }
   ],
   "source": [
    "v2 = np.random.randint(0,100,size=(3,1))\n",
    "v2 # n行一列的数组也称为列向量"
   ]
  },
  {
   "cell_type": "code",
   "execution_count": 106,
   "metadata": {},
   "outputs": [
    {
     "data": {
      "text/plain": [
       "array([[47, 21, 78, 32],\n",
       "       [94, 52, 90, 50],\n",
       "       [61, 44, 80, 11],\n",
       "       [22, 45, 57,  2]])"
      ]
     },
     "execution_count": 106,
     "metadata": {},
     "output_type": "execute_result"
    }
   ],
   "source": [
    "nd1 = np.random.randint(0,100,size=(4,4))\n",
    "nd1"
   ]
  },
  {
   "cell_type": "code",
   "execution_count": 108,
   "metadata": {},
   "outputs": [
    {
     "ename": "ValueError",
     "evalue": "operands could not be broadcast together with shapes (3,3) (4,4) ",
     "output_type": "error",
     "traceback": [
      "\u001b[1;31m---------------------------------------------------------------------------\u001b[0m",
      "\u001b[1;31mValueError\u001b[0m                                Traceback (most recent call last)",
      "\u001b[1;32m<ipython-input-108-68b05b1a6259>\u001b[0m in \u001b[0;36m<module>\u001b[1;34m()\u001b[0m\n\u001b[1;32m----> 1\u001b[1;33m \u001b[0mnd\u001b[0m \u001b[1;33m+\u001b[0m \u001b[0mnd1\u001b[0m \u001b[1;31m# 形状不一样的矩阵无法向加减\u001b[0m\u001b[1;33m\u001b[0m\u001b[0m\n\u001b[0m",
      "\u001b[1;31mValueError\u001b[0m: operands could not be broadcast together with shapes (3,3) (4,4) "
     ]
    }
   ],
   "source": [
    "nd + nd1 # 形状不一样的矩阵无法向加减"
   ]
  },
  {
   "cell_type": "markdown",
   "metadata": {},
   "source": [
    "在数学上矩阵无法加向量，也不能加常数"
   ]
  },
  {
   "cell_type": "code",
   "execution_count": 109,
   "metadata": {},
   "outputs": [
    {
     "data": {
      "text/plain": [
       "array([[ 70, 133,  50],\n",
       "       [156, 123,  42],\n",
       "       [149, 149, 105]])"
      ]
     },
     "execution_count": 109,
     "metadata": {},
     "output_type": "execute_result"
    }
   ],
   "source": [
    "nd + v1"
   ]
  },
  {
   "cell_type": "code",
   "execution_count": 110,
   "metadata": {},
   "outputs": [
    {
     "data": {
      "text/plain": [
       "array([[106, 154, 129],\n",
       "       [161, 113,  90],\n",
       "       [128, 113, 127]])"
      ]
     },
     "execution_count": 110,
     "metadata": {},
     "output_type": "execute_result"
    }
   ],
   "source": [
    "nd + v2"
   ]
  },
  {
   "cell_type": "markdown",
   "metadata": {},
   "source": [
    "[10, 58, 33],    [60, 75, 17]\n",
    "[96, 48, 25],  +  [60, 75, 17]\n",
    "[89, 74, 88]     [60, 75, 17]"
   ]
  },
  {
   "cell_type": "markdown",
   "metadata": {},
   "source": [
    "[10, 58, 33]   96 96 96\n",
    "[96, 48, 25] +  65 65 65\n",
    "[89, 74, 88]   39 39 39"
   ]
  },
  {
   "cell_type": "code",
   "execution_count": 111,
   "metadata": {},
   "outputs": [
    {
     "data": {
      "text/plain": [
       "array([[ 16,  64,  39],\n",
       "       [102,  54,  31],\n",
       "       [ 95,  80,  94]])"
      ]
     },
     "execution_count": 111,
     "metadata": {},
     "output_type": "execute_result"
    }
   ],
   "source": [
    "nd + 6"
   ]
  },
  {
   "cell_type": "markdown",
   "metadata": {},
   "source": [
    "[10, 58, 33]   6 6 6\n",
    "[96, 48, 25] + 6  6 6\n",
    "[89, 74, 88]   6 6 6"
   ]
  },
  {
   "cell_type": "code",
   "execution_count": 113,
   "metadata": {
    "scrolled": true
   },
   "outputs": [
    {
     "ename": "ValueError",
     "evalue": "operands could not be broadcast together with shapes (4,4) (3,) ",
     "output_type": "error",
     "traceback": [
      "\u001b[1;31m---------------------------------------------------------------------------\u001b[0m",
      "\u001b[1;31mValueError\u001b[0m                                Traceback (most recent call last)",
      "\u001b[1;32m<ipython-input-113-1f38133ef864>\u001b[0m in \u001b[0;36m<module>\u001b[1;34m()\u001b[0m\n\u001b[1;32m----> 1\u001b[1;33m \u001b[0mnd1\u001b[0m \u001b[1;33m+\u001b[0m \u001b[0mv1\u001b[0m\u001b[1;33m\u001b[0m\u001b[0m\n\u001b[0m",
      "\u001b[1;31mValueError\u001b[0m: operands could not be broadcast together with shapes (4,4) (3,) "
     ]
    }
   ],
   "source": [
    "nd1 + v1"
   ]
  },
  {
   "cell_type": "code",
   "execution_count": 114,
   "metadata": {},
   "outputs": [
    {
     "ename": "ValueError",
     "evalue": "operands could not be broadcast together with shapes (4,4) (3,1) ",
     "output_type": "error",
     "traceback": [
      "\u001b[1;31m---------------------------------------------------------------------------\u001b[0m",
      "\u001b[1;31mValueError\u001b[0m                                Traceback (most recent call last)",
      "\u001b[1;32m<ipython-input-114-e99152d03059>\u001b[0m in \u001b[0;36m<module>\u001b[1;34m()\u001b[0m\n\u001b[1;32m----> 1\u001b[1;33m \u001b[0mnd1\u001b[0m\u001b[1;33m+\u001b[0m\u001b[0mv2\u001b[0m\u001b[1;33m\u001b[0m\u001b[0m\n\u001b[0m",
      "\u001b[1;31mValueError\u001b[0m: operands could not be broadcast together with shapes (4,4) (3,1) "
     ]
    }
   ],
   "source": [
    "nd1+v2"
   ]
  },
  {
   "cell_type": "markdown",
   "metadata": {},
   "source": [
    "广播机制的原则：\n",
    "    \n",
    "    1）在数学上不允许矩阵和向量以及常数相加减，在程序相加减是可以间接实现，通过广播机制可以把一个向量或者常数补全成一个矩阵\n",
    "    2）如果是矩阵和一个行向量相加减，要求向量的元素个数要矩阵的列数一致，然后拿向量的已有行去补全缺失行\n",
    "    3）如果是矩阵和一个列向量相加减，要求列向量的行数必须和矩阵的行数一致，然后拿列向量的已有列去补全缺失列"
   ]
  },
  {
   "cell_type": "code",
   "execution_count": null,
   "metadata": {
    "collapsed": true
   },
   "outputs": [],
   "source": []
  }
 ],
 "metadata": {
  "kernelspec": {
   "display_name": "Python 3",
   "language": "python",
   "name": "python3"
  },
  "language_info": {
   "codemirror_mode": {
    "name": "ipython",
    "version": 3
   },
   "file_extension": ".py",
   "mimetype": "text/x-python",
   "name": "python",
   "nbconvert_exporter": "python",
   "pygments_lexer": "ipython3",
   "version": "3.6.4"
  }
 },
 "nbformat": 4,
 "nbformat_minor": 1
}
