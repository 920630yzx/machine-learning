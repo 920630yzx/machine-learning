{
 "cells": [
  {
   "cell_type": "code",
   "execution_count": 1,
   "metadata": {
    "collapsed": true
   },
   "outputs": [
    {
     "data": {
      "text/plain": [
       "array([[[[ 0, 17, 90, 38,  9],\n",
       "         [79,  5, 67, 27, 96],\n",
       "         [73, 17, 58, 78, 44],\n",
       "         [30, 50, 95, 44, 18],\n",
       "         [28,  4, 61, 63, 15]],\n",
       "\n",
       "        [[62, 59, 88, 35, 68],\n",
       "         [94, 49, 11, 34, 12],\n",
       "         [77, 19, 35, 44, 91],\n",
       "         [56, 86, 27, 38, 83],\n",
       "         [49, 35, 67, 44, 76]],\n",
       "\n",
       "        [[45, 28, 23, 64, 10],\n",
       "         [60, 42, 93, 94, 42],\n",
       "         [89, 56, 87, 65, 66],\n",
       "         [12, 91, 78, 45, 66],\n",
       "         [53,  1, 81, 75, 45]],\n",
       "\n",
       "        [[63, 94,  8, 62, 42],\n",
       "         [12, 86,  0, 55, 97],\n",
       "         [63, 96, 82, 78, 77],\n",
       "         [87,  9, 61, 95, 20],\n",
       "         [93,  0, 62, 83, 93]]],\n",
       "\n",
       "\n",
       "       [[[ 6,  4, 64, 30, 98],\n",
       "         [43,  1,  9, 26,  1],\n",
       "         [90, 78,  8, 39, 76],\n",
       "         [12, 80, 39, 76, 91],\n",
       "         [29, 80, 90, 85, 72]],\n",
       "\n",
       "        [[65,  6, 90, 52, 90],\n",
       "         [ 7, 42, 83,  0,  5],\n",
       "         [97, 27, 90, 36, 89],\n",
       "         [16, 61, 63, 50,  8],\n",
       "         [44, 75, 98,  9, 37]],\n",
       "\n",
       "        [[20, 95, 85,  5,  5],\n",
       "         [37, 84, 94,  3,  0],\n",
       "         [98, 80, 56, 33, 76],\n",
       "         [ 4, 50, 16, 86, 98],\n",
       "         [44, 37, 21, 10, 56]],\n",
       "\n",
       "        [[70,  8, 81, 18, 85],\n",
       "         [70, 62,  7, 31, 57],\n",
       "         [66, 31, 95,  3, 75],\n",
       "         [68, 25, 54, 24, 70],\n",
       "         [68, 63, 89, 11, 65]]],\n",
       "\n",
       "\n",
       "       [[[10, 96, 33,  1, 87],\n",
       "         [34, 11, 85, 69, 68],\n",
       "         [87, 12, 99, 70, 47],\n",
       "         [94,  5, 97, 86, 16],\n",
       "         [18, 29, 87, 78, 56]],\n",
       "\n",
       "        [[19,  1, 75, 40, 65],\n",
       "         [71, 19, 88, 46,  0],\n",
       "         [28, 17, 73, 67, 21],\n",
       "         [10, 92, 50, 14, 16],\n",
       "         [60, 23, 80, 15,  4]],\n",
       "\n",
       "        [[69, 39, 74, 98, 15],\n",
       "         [88, 53, 38, 49, 61],\n",
       "         [74, 75, 28, 62, 42],\n",
       "         [34, 73, 18, 45, 46],\n",
       "         [37, 95, 15, 42, 84]],\n",
       "\n",
       "        [[76, 46, 79, 79, 92],\n",
       "         [47, 93, 55,  7, 30],\n",
       "         [90, 63, 25, 22,  2],\n",
       "         [11, 12, 35, 46, 93],\n",
       "         [66, 25, 29, 74, 50]]],\n",
       "\n",
       "\n",
       "       [[[56, 70, 32,  0, 43],\n",
       "         [60, 88, 63, 55, 34],\n",
       "         [40,  8, 25, 75, 38],\n",
       "         [97,  6, 12, 53, 70],\n",
       "         [55, 22, 38,  0, 47]],\n",
       "\n",
       "        [[91,  0,  0, 16, 55],\n",
       "         [16, 14, 74, 89, 26],\n",
       "         [51, 25,  9, 28, 24],\n",
       "         [11,  0,  7, 77, 69],\n",
       "         [99, 85, 67, 86, 68]],\n",
       "\n",
       "        [[13, 17, 17,  8, 82],\n",
       "         [80, 69, 27, 77, 65],\n",
       "         [45, 51,  4, 57, 52],\n",
       "         [51, 73, 98, 65, 25],\n",
       "         [76, 55, 90, 60, 87]],\n",
       "\n",
       "        [[67, 68,  6, 47, 46],\n",
       "         [54, 28, 45, 79, 76],\n",
       "         [24, 31, 18, 99,  6],\n",
       "         [10,  6, 22, 50, 92],\n",
       "         [27, 25, 97, 30, 58]]]])"
      ]
     },
     "execution_count": 1,
     "metadata": {},
     "output_type": "execute_result"
    }
   ],
   "source": [
    "#给定一个4维矩阵，如何得到最后两维的和？\n",
    "import numpy as np\n",
    "n = np.random.randint(0,100,size = (4,4,5,5))\n",
    "n"
   ]
  },
  {
   "cell_type": "code",
   "execution_count": 3,
   "metadata": {},
   "outputs": [
    {
     "data": {
      "text/plain": [
       "(4, 4, 5, 5)"
      ]
     },
     "execution_count": 3,
     "metadata": {},
     "output_type": "execute_result"
    }
   ],
   "source": [
    "n.shape"
   ]
  },
  {
   "cell_type": "code",
   "execution_count": 4,
   "metadata": {
    "scrolled": false
   },
   "outputs": [
    {
     "data": {
      "text/plain": [
       "array([[1106, 1339, 1411, 1518],\n",
       "       [1227, 1240, 1193, 1296],\n",
       "       [1375,  994, 1354, 1247],\n",
       "       [1087, 1087, 1344, 1111]])"
      ]
     },
     "execution_count": 4,
     "metadata": {},
     "output_type": "execute_result"
    }
   ],
   "source": [
    "n.sum(axis = (2,3))"
   ]
  },
  {
   "cell_type": "code",
   "execution_count": 5,
   "metadata": {
    "scrolled": true
   },
   "outputs": [
    {
     "data": {
      "text/plain": [
       "array([[1106, 1339, 1411, 1518],\n",
       "       [1227, 1240, 1193, 1296],\n",
       "       [1375,  994, 1354, 1247],\n",
       "       [1087, 1087, 1344, 1111]])"
      ]
     },
     "execution_count": 5,
     "metadata": {},
     "output_type": "execute_result"
    }
   ],
   "source": [
    "n.sum(axis = (-1,-2))"
   ]
  },
  {
   "cell_type": "code",
   "execution_count": 6,
   "metadata": {},
   "outputs": [
    {
     "data": {
      "text/plain": [
       "array([[0, 0, 4, 5, 3],\n",
       "       [1, 4, 2, 0, 8],\n",
       "       [7, 1, 8, 7, 7],\n",
       "       [3, 9, 9, 5, 7]])"
      ]
     },
     "execution_count": 6,
     "metadata": {},
     "output_type": "execute_result"
    }
   ],
   "source": [
    "#矩阵的每一行的元素都减去该行的平均值\n",
    "\n",
    "n2 = np.random.randint(0,10,size = (4,5))\n",
    "n2"
   ]
  },
  {
   "cell_type": "code",
   "execution_count": 11,
   "metadata": {},
   "outputs": [
    {
     "data": {
      "text/plain": [
       "array([ 2.4,  3. ,  6. ,  6.6])"
      ]
     },
     "execution_count": 11,
     "metadata": {},
     "output_type": "execute_result"
    }
   ],
   "source": [
    "row_mean = n2.mean(axis = 1)\n",
    "row_mean"
   ]
  },
  {
   "cell_type": "code",
   "execution_count": 13,
   "metadata": {
    "collapsed": true
   },
   "outputs": [
    {
     "data": {
      "text/plain": [
       "array([[ 2.4],\n",
       "       [ 3. ],\n",
       "       [ 6. ],\n",
       "       [ 6.6]])"
      ]
     },
     "execution_count": 13,
     "metadata": {},
     "output_type": "execute_result"
    }
   ],
   "source": [
    "row_mean = row_mean.reshape((4,1))\n",
    "row_mean"
   ]
  },
  {
   "cell_type": "code",
   "execution_count": 14,
   "metadata": {},
   "outputs": [
    {
     "data": {
      "text/plain": [
       "array([[-2.4, -2.4,  1.6,  2.6,  0.6],\n",
       "       [-2. ,  1. , -1. , -3. ,  5. ],\n",
       "       [ 1. , -5. ,  2. ,  1. ,  1. ],\n",
       "       [-3.6,  2.4,  2.4, -1.6,  0.4]])"
      ]
     },
     "execution_count": 14,
     "metadata": {},
     "output_type": "execute_result"
    }
   ],
   "source": [
    "n2 - row_mean"
   ]
  },
  {
   "cell_type": "code",
   "execution_count": null,
   "metadata": {
    "collapsed": true
   },
   "outputs": [],
   "source": [
    "17、打印出以下函数（要求使用np.zeros创建8*8的矩阵）：\n",
    "[[0 1 0 1 0 1 0 1]\n",
    " [1 0 1 0 1 0 1 0]\n",
    " [0 1 0 1 0 1 0 1]\n",
    " [1 0 1 0 1 0 1 0]\n",
    " [0 1 0 1 0 1 0 1]\n",
    " [1 0 1 0 1 0 1 0]\n",
    " [0 1 0 1 0 1 0 1]\n",
    " [1 0 1 0 1 0 1 0]]"
   ]
  },
  {
   "cell_type": "code",
   "execution_count": 16,
   "metadata": {
    "scrolled": true
   },
   "outputs": [
    {
     "data": {
      "text/plain": [
       "array([[0, 0, 0, 0, 0, 0, 0, 0],\n",
       "       [0, 0, 0, 0, 0, 0, 0, 0],\n",
       "       [0, 0, 0, 0, 0, 0, 0, 0],\n",
       "       [0, 0, 0, 0, 0, 0, 0, 0],\n",
       "       [0, 0, 0, 0, 0, 0, 0, 0],\n",
       "       [0, 0, 0, 0, 0, 0, 0, 0],\n",
       "       [0, 0, 0, 0, 0, 0, 0, 0],\n",
       "       [0, 0, 0, 0, 0, 0, 0, 0]])"
      ]
     },
     "execution_count": 16,
     "metadata": {},
     "output_type": "execute_result"
    }
   ],
   "source": [
    "n3 = np.zeros((8,8),dtype=int)\n",
    "n3"
   ]
  },
  {
   "cell_type": "code",
   "execution_count": 17,
   "metadata": {},
   "outputs": [
    {
     "data": {
      "text/plain": [
       "array([[0, 0, 0, 0, 0, 0, 0, 0],\n",
       "       [0, 0, 0, 0, 0, 0, 0, 0],\n",
       "       [0, 0, 0, 0, 0, 0, 0, 0],\n",
       "       [0, 0, 0, 0, 0, 0, 0, 0]])"
      ]
     },
     "execution_count": 17,
     "metadata": {},
     "output_type": "execute_result"
    }
   ],
   "source": [
    "n3[::2,]"
   ]
  }
 ],
 "metadata": {
  "kernelspec": {
   "display_name": "Python 3",
   "language": "python",
   "name": "python3"
  },
  "language_info": {
   "codemirror_mode": {
    "name": "ipython",
    "version": 3
   },
   "file_extension": ".py",
   "mimetype": "text/x-python",
   "name": "python",
   "nbconvert_exporter": "python",
   "pygments_lexer": "ipython3",
   "version": "3.6.4"
  }
 },
 "nbformat": 4,
 "nbformat_minor": 1
}
